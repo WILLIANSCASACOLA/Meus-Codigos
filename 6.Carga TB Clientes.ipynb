{
 "cells": [
  {
   "cell_type": "code",
   "execution_count": 86,
   "id": "b5b76d82",
   "metadata": {},
   "outputs": [],
   "source": [
    "# Conexão com SQL Server\n",
    "import pandas as pd\n",
    "import pyodbc\n",
    "\n",
    "server = 'WILLIAN\\SQLEXPRESS'\n",
    "database = 'SQL_DB_1'\n",
    "\n",
    "conexao = pyodbc.connect('DRIVER={ODBC Driver 17 for SQL Server};'\n",
    "                         f'SERVER={server};'\n",
    "                         f'DATABASE={database};'\n",
    "                         'Trusted_Connection=yes;')\n",
    "cursor = conexao.cursor()\n"
   ]
  },
  {
   "cell_type": "code",
   "execution_count": 87,
   "id": "5e085f91",
   "metadata": {},
   "outputs": [
    {
     "data": {
      "text/html": [
       "<div>\n",
       "<style scoped>\n",
       "    .dataframe tbody tr th:only-of-type {\n",
       "        vertical-align: middle;\n",
       "    }\n",
       "\n",
       "    .dataframe tbody tr th {\n",
       "        vertical-align: top;\n",
       "    }\n",
       "\n",
       "    .dataframe thead th {\n",
       "        text-align: right;\n",
       "    }\n",
       "</style>\n",
       "<table border=\"1\" class=\"dataframe\">\n",
       "  <thead>\n",
       "    <tr style=\"text-align: right;\">\n",
       "      <th></th>\n",
       "      <th>id</th>\n",
       "      <th>created_at</th>\n",
       "      <th>first_name</th>\n",
       "      <th>last_name</th>\n",
       "      <th>email</th>\n",
       "      <th>cell_phone</th>\n",
       "      <th>country</th>\n",
       "      <th>state</th>\n",
       "      <th>street</th>\n",
       "      <th>number</th>\n",
       "      <th>additionals</th>\n",
       "    </tr>\n",
       "  </thead>\n",
       "  <tbody>\n",
       "    <tr>\n",
       "      <th>0</th>\n",
       "      <td>0</td>\n",
       "      <td>2017-11-01 14:45:41</td>\n",
       "      <td>Marta</td>\n",
       "      <td>Jesus</td>\n",
       "      <td>NaN</td>\n",
       "      <td>9 9102-7834</td>\n",
       "      <td>Brasil</td>\n",
       "      <td>Acre</td>\n",
       "      <td>NaN</td>\n",
       "      <td>NaN</td>\n",
       "      <td>Conjunto 16</td>\n",
       "    </tr>\n",
       "    <tr>\n",
       "      <th>1</th>\n",
       "      <td>1</td>\n",
       "      <td>2017-10-16 00:50:39</td>\n",
       "      <td>Luana</td>\n",
       "      <td>Almeida</td>\n",
       "      <td>NaN</td>\n",
       "      <td>9 7328-8718</td>\n",
       "      <td>Brasil</td>\n",
       "      <td>Rio Grande do Sul</td>\n",
       "      <td>Avenida 56 do Estado Rio Grande do Sul</td>\n",
       "      <td>989.0</td>\n",
       "      <td>Conjunto 17</td>\n",
       "    </tr>\n",
       "    <tr>\n",
       "      <th>2</th>\n",
       "      <td>2</td>\n",
       "      <td>2018-06-16 17:51:29</td>\n",
       "      <td>Frida</td>\n",
       "      <td>Mendes</td>\n",
       "      <td>frida@meu_email.com</td>\n",
       "      <td>9 5906-7552</td>\n",
       "      <td>Brasil</td>\n",
       "      <td>São Paulo</td>\n",
       "      <td>Avenida 59 do Estado São Paulo</td>\n",
       "      <td>534.0</td>\n",
       "      <td>NaN</td>\n",
       "    </tr>\n",
       "    <tr>\n",
       "      <th>3</th>\n",
       "      <td>3</td>\n",
       "      <td>2018-01-17 03:02:58</td>\n",
       "      <td>Daniela</td>\n",
       "      <td>Avelino</td>\n",
       "      <td>daniela@exemplo.com</td>\n",
       "      <td>9 4642-9486</td>\n",
       "      <td>Brasil</td>\n",
       "      <td>Mato Grosso</td>\n",
       "      <td>NaN</td>\n",
       "      <td>NaN</td>\n",
       "      <td>NaN</td>\n",
       "    </tr>\n",
       "    <tr>\n",
       "      <th>4</th>\n",
       "      <td>4</td>\n",
       "      <td>2018-08-06 07:24:16</td>\n",
       "      <td>Romário</td>\n",
       "      <td>Teixeira</td>\n",
       "      <td>NaN</td>\n",
       "      <td>9 3093-6522</td>\n",
       "      <td>Brasil</td>\n",
       "      <td>Bahia</td>\n",
       "      <td>Praça 56 do Estado Bahia</td>\n",
       "      <td>191.0</td>\n",
       "      <td>Apto 12</td>\n",
       "    </tr>\n",
       "  </tbody>\n",
       "</table>\n",
       "</div>"
      ],
      "text/plain": [
       "   id           created_at first_name last_name                email  \\\n",
       "0   0  2017-11-01 14:45:41      Marta     Jesus                  NaN   \n",
       "1   1  2017-10-16 00:50:39      Luana   Almeida                  NaN   \n",
       "2   2  2018-06-16 17:51:29      Frida    Mendes  frida@meu_email.com   \n",
       "3   3  2018-01-17 03:02:58    Daniela   Avelino  daniela@exemplo.com   \n",
       "4   4  2018-08-06 07:24:16    Romário  Teixeira                  NaN   \n",
       "\n",
       "    cell_phone country              state  \\\n",
       "0  9 9102-7834  Brasil               Acre   \n",
       "1  9 7328-8718  Brasil  Rio Grande do Sul   \n",
       "2  9 5906-7552  Brasil          São Paulo   \n",
       "3  9 4642-9486  Brasil        Mato Grosso   \n",
       "4  9 3093-6522  Brasil              Bahia   \n",
       "\n",
       "                                   street  number  additionals  \n",
       "0                                     NaN     NaN  Conjunto 16  \n",
       "1  Avenida 56 do Estado Rio Grande do Sul   989.0  Conjunto 17  \n",
       "2          Avenida 59 do Estado São Paulo   534.0          NaN  \n",
       "3                                     NaN     NaN          NaN  \n",
       "4                Praça 56 do Estado Bahia   191.0      Apto 12  "
      ]
     },
     "execution_count": 87,
     "metadata": {},
     "output_type": "execute_result"
    }
   ],
   "source": [
    "dados = pd.read_csv(r'C:\\Aplicativos\\Meus_Arquivos_Willian\\Ambiente_Desenvolvimento\\Arquivos_in\\Clientes.csv',delimiter=',')\n",
    "dados.head()"
   ]
  },
  {
   "cell_type": "code",
   "execution_count": 88,
   "id": "9cd14812",
   "metadata": {},
   "outputs": [
    {
     "name": "stdout",
     "output_type": "stream",
     "text": [
      "Coluna: id: int64\n",
      "Coluna: created_at: object\n",
      "Coluna: first_name: object\n",
      "Coluna: last_name: object\n",
      "Coluna: email: object\n",
      "Coluna: cell_phone: object\n",
      "Coluna: country: object\n",
      "Coluna: state: object\n",
      "Coluna: street: object\n",
      "Coluna: number: float64\n",
      "Coluna: additionals: object\n"
     ]
    }
   ],
   "source": [
    "#Verificando os tipos de dados com forma de tabela\n",
    "for coluna in dados.columns:\n",
    "    print(f\"Coluna: {coluna}: {dados[coluna].dtype}\")"
   ]
  },
  {
   "cell_type": "code",
   "execution_count": 89,
   "id": "1073e6de",
   "metadata": {},
   "outputs": [],
   "source": [
    "#Converte coluna total_price para float64\n",
    "dados['created_at'] = pd.to_datetime(dados['created_at'], errors='coerce') # - errors='coerce': diz ao pandas para forçar a conversão e, se encontrar algum valor inválido (como uma string malformada ou nula), ele vai substituir por NaT (Not a Time), que é o equivalente a NaN para datas.\n",
    "# Se contrar valores NaT, você pode optar por removê-los ou preenchê-los com um valor padrão.\n",
    "dados['email'] = dados['email'].fillna('Sem Registros')  # Se encontrar valores NaN, substitui por 'Sem Registros\n",
    "dados['street'] = dados['street'].fillna('Sem Registros')\n",
    "dados['number'] = dados['number'].fillna('Sem Registros')\n",
    "dados['additionals'] = dados['additionals'].fillna('Sem Registros')"
   ]
  },
  {
   "cell_type": "code",
   "execution_count": 90,
   "id": "9df3f0b2",
   "metadata": {},
   "outputs": [
    {
     "data": {
      "text/html": [
       "<div>\n",
       "<style scoped>\n",
       "    .dataframe tbody tr th:only-of-type {\n",
       "        vertical-align: middle;\n",
       "    }\n",
       "\n",
       "    .dataframe tbody tr th {\n",
       "        vertical-align: top;\n",
       "    }\n",
       "\n",
       "    .dataframe thead th {\n",
       "        text-align: right;\n",
       "    }\n",
       "</style>\n",
       "<table border=\"1\" class=\"dataframe\">\n",
       "  <thead>\n",
       "    <tr style=\"text-align: right;\">\n",
       "      <th></th>\n",
       "      <th>id</th>\n",
       "      <th>created_at</th>\n",
       "      <th>first_name</th>\n",
       "      <th>last_name</th>\n",
       "      <th>email</th>\n",
       "      <th>cell_phone</th>\n",
       "      <th>country</th>\n",
       "      <th>state</th>\n",
       "      <th>street</th>\n",
       "      <th>number</th>\n",
       "      <th>additionals</th>\n",
       "    </tr>\n",
       "  </thead>\n",
       "  <tbody>\n",
       "    <tr>\n",
       "      <th>0</th>\n",
       "      <td>0</td>\n",
       "      <td>2017-11-01 14:45:41</td>\n",
       "      <td>Marta</td>\n",
       "      <td>Jesus</td>\n",
       "      <td>Sem Registros</td>\n",
       "      <td>9 9102-7834</td>\n",
       "      <td>Brasil</td>\n",
       "      <td>Acre</td>\n",
       "      <td>Sem Registros</td>\n",
       "      <td>Sem Registros</td>\n",
       "      <td>Conjunto 16</td>\n",
       "    </tr>\n",
       "    <tr>\n",
       "      <th>1</th>\n",
       "      <td>1</td>\n",
       "      <td>2017-10-16 00:50:39</td>\n",
       "      <td>Luana</td>\n",
       "      <td>Almeida</td>\n",
       "      <td>Sem Registros</td>\n",
       "      <td>9 7328-8718</td>\n",
       "      <td>Brasil</td>\n",
       "      <td>Rio Grande do Sul</td>\n",
       "      <td>Avenida 56 do Estado Rio Grande do Sul</td>\n",
       "      <td>989.0</td>\n",
       "      <td>Conjunto 17</td>\n",
       "    </tr>\n",
       "    <tr>\n",
       "      <th>2</th>\n",
       "      <td>2</td>\n",
       "      <td>2018-06-16 17:51:29</td>\n",
       "      <td>Frida</td>\n",
       "      <td>Mendes</td>\n",
       "      <td>frida@meu_email.com</td>\n",
       "      <td>9 5906-7552</td>\n",
       "      <td>Brasil</td>\n",
       "      <td>São Paulo</td>\n",
       "      <td>Avenida 59 do Estado São Paulo</td>\n",
       "      <td>534.0</td>\n",
       "      <td>Sem Registros</td>\n",
       "    </tr>\n",
       "    <tr>\n",
       "      <th>3</th>\n",
       "      <td>3</td>\n",
       "      <td>2018-01-17 03:02:58</td>\n",
       "      <td>Daniela</td>\n",
       "      <td>Avelino</td>\n",
       "      <td>daniela@exemplo.com</td>\n",
       "      <td>9 4642-9486</td>\n",
       "      <td>Brasil</td>\n",
       "      <td>Mato Grosso</td>\n",
       "      <td>Sem Registros</td>\n",
       "      <td>Sem Registros</td>\n",
       "      <td>Sem Registros</td>\n",
       "    </tr>\n",
       "    <tr>\n",
       "      <th>4</th>\n",
       "      <td>4</td>\n",
       "      <td>2018-08-06 07:24:16</td>\n",
       "      <td>Romário</td>\n",
       "      <td>Teixeira</td>\n",
       "      <td>Sem Registros</td>\n",
       "      <td>9 3093-6522</td>\n",
       "      <td>Brasil</td>\n",
       "      <td>Bahia</td>\n",
       "      <td>Praça 56 do Estado Bahia</td>\n",
       "      <td>191.0</td>\n",
       "      <td>Apto 12</td>\n",
       "    </tr>\n",
       "  </tbody>\n",
       "</table>\n",
       "</div>"
      ],
      "text/plain": [
       "   id          created_at first_name last_name                email  \\\n",
       "0   0 2017-11-01 14:45:41      Marta     Jesus        Sem Registros   \n",
       "1   1 2017-10-16 00:50:39      Luana   Almeida        Sem Registros   \n",
       "2   2 2018-06-16 17:51:29      Frida    Mendes  frida@meu_email.com   \n",
       "3   3 2018-01-17 03:02:58    Daniela   Avelino  daniela@exemplo.com   \n",
       "4   4 2018-08-06 07:24:16    Romário  Teixeira        Sem Registros   \n",
       "\n",
       "    cell_phone country              state  \\\n",
       "0  9 9102-7834  Brasil               Acre   \n",
       "1  9 7328-8718  Brasil  Rio Grande do Sul   \n",
       "2  9 5906-7552  Brasil          São Paulo   \n",
       "3  9 4642-9486  Brasil        Mato Grosso   \n",
       "4  9 3093-6522  Brasil              Bahia   \n",
       "\n",
       "                                   street         number    additionals  \n",
       "0                           Sem Registros  Sem Registros    Conjunto 16  \n",
       "1  Avenida 56 do Estado Rio Grande do Sul          989.0    Conjunto 17  \n",
       "2          Avenida 59 do Estado São Paulo          534.0  Sem Registros  \n",
       "3                           Sem Registros  Sem Registros  Sem Registros  \n",
       "4                Praça 56 do Estado Bahia          191.0        Apto 12  "
      ]
     },
     "execution_count": 90,
     "metadata": {},
     "output_type": "execute_result"
    }
   ],
   "source": [
    "dados.head()"
   ]
  },
  {
   "cell_type": "code",
   "execution_count": 91,
   "id": "8dfa5479",
   "metadata": {},
   "outputs": [
    {
     "data": {
      "text/plain": [
       "'Index([id, created_at, first_name, last_name, email, cell_phone,\\n       country, state, street, number, additionals],\\n      dtype=object)'"
      ]
     },
     "execution_count": 91,
     "metadata": {},
     "output_type": "execute_result"
    }
   ],
   "source": [
    "#Pegar o nome das colunas\n",
    "colunas = dados.columns\n",
    "str(colunas).replace(\"'\",\"\")"
   ]
  },
  {
   "cell_type": "markdown",
   "id": "ad983d59",
   "metadata": {},
   "source": [
    "Apagar os dados antes de inserir"
   ]
  },
  {
   "cell_type": "code",
   "execution_count": 92,
   "id": "df05463e",
   "metadata": {},
   "outputs": [],
   "source": [
    "cursor.execute(\"TRUNCATE TABLE [Clientes]\")  # Apagar os dados antes de inserir\n",
    "cursor.commit()  # Validar dados no SQL Server"
   ]
  },
  {
   "cell_type": "markdown",
   "id": "648dbee9",
   "metadata": {},
   "source": [
    "Inserindo DataFrame no Banco"
   ]
  },
  {
   "cell_type": "code",
   "execution_count": 93,
   "id": "22635348",
   "metadata": {},
   "outputs": [],
   "source": [
    "for index, linha in dados.iterrows():\n",
    "    linha.email = str(linha.email) # Convertendo para string pois tem caracteres especiais\n",
    "    linha.state = str(linha.state)\n",
    "    linha.street = str(linha.street)\n",
    "    linha.number = str(linha.number)\n",
    "    linha.additionals = str(linha.additionals)\n",
    "    cursor.execute(\n",
    "        \"INSERT INTO [Clientes](id,created_at,first_name,last_name,email,cell_phone,country,state,street,number,additionals) VALUES (?,?,?,?,?,?,?,?,?,?,?)\",\n",
    "        linha.id,\n",
    "        linha.created_at,\n",
    "        linha.first_name,\n",
    "        linha.last_name,\n",
    "        linha.email,\n",
    "        linha.cell_phone,\n",
    "        linha.country,\n",
    "        linha.state,\n",
    "        linha.street,\n",
    "        linha.number,\n",
    "        linha.additionals)\n",
    "cursor.commit()\n",
    "cursor.close()\n",
    "conexao.close()"
   ]
  },
  {
   "cell_type": "code",
   "execution_count": 94,
   "id": "ae84af13",
   "metadata": {},
   "outputs": [
    {
     "name": "stdout",
     "output_type": "stream",
     "text": [
      "Dados inseridos com sucesso na tabela Clientes.\n"
     ]
    }
   ],
   "source": [
    "print(\"Dados inseridos com sucesso na tabela Clientes.\")"
   ]
  }
 ],
 "metadata": {
  "kernelspec": {
   "display_name": "Python 3",
   "language": "python",
   "name": "python3"
  },
  "language_info": {
   "codemirror_mode": {
    "name": "ipython",
    "version": 3
   },
   "file_extension": ".py",
   "mimetype": "text/x-python",
   "name": "python",
   "nbconvert_exporter": "python",
   "pygments_lexer": "ipython3",
   "version": "3.11.9"
  }
 },
 "nbformat": 4,
 "nbformat_minor": 5
}
