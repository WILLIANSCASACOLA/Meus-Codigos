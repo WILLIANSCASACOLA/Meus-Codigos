{
 "cells": [
  {
   "cell_type": "code",
   "execution_count": 57,
   "id": "b5b76d82",
   "metadata": {},
   "outputs": [],
   "source": [
    "# Conexão com SQL Server\n",
    "import pandas as pd\n",
    "import pyodbc\n",
    "\n",
    "server = 'WILLIAN\\SQLEXPRESS'\n",
    "database = 'SQL_DB_1'\n",
    "\n",
    "conexao = pyodbc.connect('DRIVER={ODBC Driver 17 for SQL Server};'\n",
    "                         f'SERVER={server};'\n",
    "                         f'DATABASE={database};'\n",
    "                         'Trusted_Connection=yes;')\n",
    "cursor = conexao.cursor()\n"
   ]
  },
  {
   "cell_type": "code",
   "execution_count": 58,
   "id": "5e085f91",
   "metadata": {},
   "outputs": [
    {
     "data": {
      "text/html": [
       "<div>\n",
       "<style scoped>\n",
       "    .dataframe tbody tr th:only-of-type {\n",
       "        vertical-align: middle;\n",
       "    }\n",
       "\n",
       "    .dataframe tbody tr th {\n",
       "        vertical-align: top;\n",
       "    }\n",
       "\n",
       "    .dataframe thead th {\n",
       "        text-align: right;\n",
       "    }\n",
       "</style>\n",
       "<table border=\"1\" class=\"dataframe\">\n",
       "  <thead>\n",
       "    <tr style=\"text-align: right;\">\n",
       "      <th></th>\n",
       "      <th>id</th>\n",
       "      <th>order_id</th>\n",
       "      <th>product_id</th>\n",
       "      <th>quantity</th>\n",
       "      <th>total_price</th>\n",
       "    </tr>\n",
       "  </thead>\n",
       "  <tbody>\n",
       "    <tr>\n",
       "      <th>0</th>\n",
       "      <td>0</td>\n",
       "      <td>7019</td>\n",
       "      <td>28</td>\n",
       "      <td>1</td>\n",
       "      <td>186</td>\n",
       "    </tr>\n",
       "    <tr>\n",
       "      <th>1</th>\n",
       "      <td>1</td>\n",
       "      <td>8827</td>\n",
       "      <td>29</td>\n",
       "      <td>1</td>\n",
       "      <td>110</td>\n",
       "    </tr>\n",
       "    <tr>\n",
       "      <th>2</th>\n",
       "      <td>2</td>\n",
       "      <td>3863</td>\n",
       "      <td>38</td>\n",
       "      <td>1</td>\n",
       "      <td>385</td>\n",
       "    </tr>\n",
       "    <tr>\n",
       "      <th>3</th>\n",
       "      <td>3</td>\n",
       "      <td>5002</td>\n",
       "      <td>37</td>\n",
       "      <td>1</td>\n",
       "      <td>493</td>\n",
       "    </tr>\n",
       "    <tr>\n",
       "      <th>4</th>\n",
       "      <td>4</td>\n",
       "      <td>6337</td>\n",
       "      <td>28</td>\n",
       "      <td>1</td>\n",
       "      <td>186</td>\n",
       "    </tr>\n",
       "  </tbody>\n",
       "</table>\n",
       "</div>"
      ],
      "text/plain": [
       "   id  order_id  product_id  quantity  total_price\n",
       "0   0      7019          28         1          186\n",
       "1   1      8827          29         1          110\n",
       "2   2      3863          38         1          385\n",
       "3   3      5002          37         1          493\n",
       "4   4      6337          28         1          186"
      ]
     },
     "execution_count": 58,
     "metadata": {},
     "output_type": "execute_result"
    }
   ],
   "source": [
    "dados = pd.read_excel(r'C:\\Aplicativos\\Meus_Arquivos_Willian\\Ambiente_Desenvolvimento\\Arquivos_in\\items.xlsx')\n",
    "dados.head()"
   ]
  },
  {
   "cell_type": "code",
   "execution_count": 59,
   "id": "277f6c58",
   "metadata": {},
   "outputs": [
    {
     "name": "stdout",
     "output_type": "stream",
     "text": [
      "int64\n",
      "int64\n",
      "int64\n",
      "int64\n",
      "int64\n"
     ]
    }
   ],
   "source": [
    "print(dados['id'].dtype) # Verifica o tipo de dados da coluna total_price\n",
    "print(dados['order_id'].dtype) # Verifica o tipo de dados da coluna total_price\n",
    "print(dados['product_id'].dtype) # Verifica o tipo de dados da coluna total_price\n",
    "print(dados['quantity'].dtype) # Verifica o tipo de dados da coluna total_price\n",
    "print(dados['total_price'].dtype) # Verifica o tipo de dados da coluna total_price"
   ]
  },
  {
   "cell_type": "code",
   "execution_count": 60,
   "id": "1073e6de",
   "metadata": {},
   "outputs": [],
   "source": [
    "#Converte coluna total_price para float64\n",
    "dados['total_price'] = dados['total_price'].astype('float64')"
   ]
  },
  {
   "cell_type": "code",
   "execution_count": 61,
   "id": "8dfa5479",
   "metadata": {},
   "outputs": [
    {
     "data": {
      "text/plain": [
       "'Index([id, order_id, product_id, quantity, total_price], dtype=object)'"
      ]
     },
     "execution_count": 61,
     "metadata": {},
     "output_type": "execute_result"
    }
   ],
   "source": [
    "#Pegar o nome das colunas\n",
    "colunas = dados.columns\n",
    "str(colunas).replace(\"'\",\"\")"
   ]
  },
  {
   "cell_type": "markdown",
   "id": "ad983d59",
   "metadata": {},
   "source": [
    "Apagar os dados antes de inserir"
   ]
  },
  {
   "cell_type": "code",
   "execution_count": 62,
   "id": "df05463e",
   "metadata": {},
   "outputs": [],
   "source": [
    "cursor.execute(\"TRUNCATE TABLE [items]\")  # Apagar os dados antes de inserir\n",
    "cursor.commit()  # Validar dados no SQL Server"
   ]
  },
  {
   "cell_type": "markdown",
   "id": "648dbee9",
   "metadata": {},
   "source": [
    "Inserindo DataFrame no Banco"
   ]
  },
  {
   "cell_type": "code",
   "execution_count": 63,
   "id": "22635348",
   "metadata": {},
   "outputs": [],
   "source": [
    "for index, linha in dados.iterrows():\n",
    "    cursor.execute(\n",
    "        \"INSERT INTO [items](id,order_id,product_id,quantity,total_price) VALUES (?,?,?,?,?)\",linha.id, linha.order_id,linha.product_id,linha.quantity,linha.total_price)\n",
    "cursor.commit()\n",
    "cursor.close()\n",
    "conexao.close()"
   ]
  },
  {
   "cell_type": "code",
   "execution_count": 64,
   "id": "ae84af13",
   "metadata": {},
   "outputs": [
    {
     "name": "stdout",
     "output_type": "stream",
     "text": [
      "Dados inseridos com sucesso na tabela items.\n"
     ]
    }
   ],
   "source": [
    "print(\"Dados inseridos com sucesso na tabela items.\")"
   ]
  }
 ],
 "metadata": {
  "kernelspec": {
   "display_name": "Python 3",
   "language": "python",
   "name": "python3"
  },
  "language_info": {
   "codemirror_mode": {
    "name": "ipython",
    "version": 3
   },
   "file_extension": ".py",
   "mimetype": "text/x-python",
   "name": "python",
   "nbconvert_exporter": "python",
   "pygments_lexer": "ipython3",
   "version": "3.11.9"
  }
 },
 "nbformat": 4,
 "nbformat_minor": 5
}
