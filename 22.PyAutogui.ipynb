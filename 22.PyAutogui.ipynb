{
 "cells": [
  {
   "cell_type": "code",
   "execution_count": 1,
   "id": "233706e1",
   "metadata": {},
   "outputs": [],
   "source": [
    "# Automação com pyautogui para clicar em um botão específico na tela\n",
    "import pyautogui as gui\n",
    "import sys\n",
    "import time\n",
    "# Espera 5 segundos para permitir que o usuário posicione a janela correta"
   ]
  },
  {
   "cell_type": "code",
   "execution_count": 2,
   "id": "822612d0",
   "metadata": {},
   "outputs": [],
   "source": [
    "#Abir o navegador\n",
    "gui.press('win')\n",
    "time.sleep(1) # Espera um segundo para abrir o menu iniciar\n",
    "gui.write('chrome')\n",
    "gui.press('enter')\n",
    "# Espera o navegador abrir\n",
    "time.sleep(2)\n",
    "# na barra de endereços\n",
    "gui.write('https://www.google.com')\n",
    "gui.press('enter')\n",
    "# Espera a página carregar\n",
    "time.sleep(3)\n",
    "# Clica no botão de pesquisa\n",
    "gui.write('Dolar hoje')\n",
    "gui.press('enter')\n"
   ]
  }
 ],
 "metadata": {
  "kernelspec": {
   "display_name": "Python 3",
   "language": "python",
   "name": "python3"
  },
  "language_info": {
   "codemirror_mode": {
    "name": "ipython",
    "version": 3
   },
   "file_extension": ".py",
   "mimetype": "text/x-python",
   "name": "python",
   "nbconvert_exporter": "python",
   "pygments_lexer": "ipython3",
   "version": "3.11.9"
  }
 },
 "nbformat": 4,
 "nbformat_minor": 5
}
