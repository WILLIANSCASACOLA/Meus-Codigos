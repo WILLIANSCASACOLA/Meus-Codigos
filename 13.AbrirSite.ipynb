{
 "cells": [
  {
   "cell_type": "code",
   "execution_count": 1,
   "id": "3cf33d43",
   "metadata": {},
   "outputs": [],
   "source": [
    "#Abrir o google chorume\n",
    "import webbrowser\n",
    "import time\n",
    "import platform"
   ]
  },
  {
   "cell_type": "code",
   "execution_count": 2,
   "id": "cf9e8177",
   "metadata": {},
   "outputs": [
    {
     "name": "stdout",
     "output_type": "stream",
     "text": [
      "Sistema Operacional: Windows\n",
      "Versão do SO: 10\n",
      "Arquitetura: 64bit\n",
      "Nome do Computador: willian\n",
      "Processador: Intel64 Family 6 Model 142 Stepping 12, GenuineIntel\n"
     ]
    }
   ],
   "source": [
    "# Lê as configurações do meu computador\n",
    "\n",
    "print(f\"Sistema Operacional: {platform.system()}\")\n",
    "print(f\"Versão do SO: {platform.release()}\")\n",
    "print(f\"Arquitetura: {platform.architecture()[0]}\")\n",
    "print(f\"Nome do Computador: {platform.node()}\")\n",
    "print(f\"Processador: {platform.processor()}\")\n",
    "processador_info = platform.uname()\n"
   ]
  },
  {
   "cell_type": "code",
   "execution_count": 3,
   "id": "bff65476",
   "metadata": {},
   "outputs": [
    {
     "name": "stdout",
     "output_type": "stream",
     "text": [
      "Intel64 Family 6 Model 142 Stepping 12, GenuineIntel\n"
     ]
    }
   ],
   "source": [
    "#Coloca veriavel nome_processador\n",
    "nome_processador = processador_info.processor\n",
    "print(nome_processador)"
   ]
  },
  {
   "cell_type": "code",
   "execution_count": 4,
   "id": "fb414bac",
   "metadata": {},
   "outputs": [],
   "source": [
    "site= \"https://www.google.com\"\n",
    "webbrowser.open(site)\n",
    "#Escrever o google\n",
    "import pyautogui\n",
    "time.sleep(3)  # Espera 5 segundos para o navegador abrir\n",
    "pyautogui.write(nome_processador, interval=0.25)\n",
    "#Clicar no google\n",
    "time.sleep(2)\n",
    "pyautogui.press(\"enter\")"
   ]
  },
  {
   "cell_type": "code",
   "execution_count": 5,
   "id": "4c5fa452",
   "metadata": {},
   "outputs": [
    {
     "data": {
      "text/plain": [
       "True"
      ]
     },
     "execution_count": 5,
     "metadata": {},
     "output_type": "execute_result"
    }
   ],
   "source": [
    "Google = \"https://www.google.com\"\n",
    "webbrowser.open(Google) # Abre o site do Google\n",
    "Cisco = \"https://www.cisco.com/site/br/pt/index.html\"\n",
    "webbrowser.open(Cisco) # Abre o site do Blip"
   ]
  },
  {
   "cell_type": "code",
   "execution_count": 6,
   "id": "062d36e8",
   "metadata": {},
   "outputs": [
    {
     "data": {
      "text/plain": [
       "True"
      ]
     },
     "execution_count": 6,
     "metadata": {},
     "output_type": "execute_result"
    }
   ],
   "source": [
    "# Pesquisa no Google\n",
    "pesquisa = \"Playstation\"\n",
    "url = f\"https://www.google.com/search?q={pesquisa}\"\n",
    "webbrowser.open(url)"
   ]
  }
 ],
 "metadata": {
  "kernelspec": {
   "display_name": "Python 3",
   "language": "python",
   "name": "python3"
  },
  "language_info": {
   "codemirror_mode": {
    "name": "ipython",
    "version": 3
   },
   "file_extension": ".py",
   "mimetype": "text/x-python",
   "name": "python",
   "nbconvert_exporter": "python",
   "pygments_lexer": "ipython3",
   "version": "3.11.9"
  }
 },
 "nbformat": 4,
 "nbformat_minor": 5
}
