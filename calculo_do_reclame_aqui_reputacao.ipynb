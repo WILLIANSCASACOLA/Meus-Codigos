{
  "nbformat": 4,
  "nbformat_minor": 0,
  "metadata": {
    "colab": {
      "provenance": [],
      "authorship_tag": "ABX9TyPyDHXaVaDlE3Tsou8HaBT7",
      "include_colab_link": true
    },
    "kernelspec": {
      "name": "python3",
      "display_name": "Python 3"
    },
    "language_info": {
      "name": "python"
    }
  },
  "cells": [
    {
      "cell_type": "markdown",
      "metadata": {
        "id": "view-in-github",
        "colab_type": "text"
      },
      "source": [
        "<a href=\"https://colab.research.google.com/github/WILLIANSCASACOLA/Meus-Codigos/blob/main/calculo_do_reclame_aqui_reputacao.ipynb\" target=\"_parent\"><img src=\"https://colab.research.google.com/assets/colab-badge.svg\" alt=\"Open In Colab\"/></a>"
      ]
    },
    {
      "cell_type": "markdown",
      "source": [
        "**Calculadora de Reputação Reclame AQUI**\n",
        "\n",
        "Este notebook foi criado para simular o cálculo da reputação de uma empresa no Reclame AQUI. A nota final é uma média ponderada baseada em quatro índices principais:\n",
        "\n",
        "\n",
        "\n",
        "1.   Índice de Resposta\n",
        "2.   Índice de Solução\n",
        "3.   Índice de Voltar a Fazer Negócio\n",
        "4.   Nota do Consumidor\n",
        "\n",
        "*A fórmula exata e os pesos podem variar, mas a lógica aqui é uma representação didática de como esse cálculo funciona, permitindo que você insira valores e veja o resultado.*"
      ],
      "metadata": {
        "id": "SkiWv_yfpu0P"
      }
    },
    {
      "cell_type": "code",
      "source": [
        "# --- Célula 1: Configuração e Funções ---\n",
        "\n",
        "def calcular_reputacao_ra(resp, sol, volt, nota):\n",
        "    \"\"\"\n",
        "    Calcula a reputação do Reclame AQUI com base em uma média ponderada.\n",
        "\n",
        "    Args:\n",
        "        resp (float): Índice de Resposta (0 a 100).\n",
        "        sol (float): Índice de Solução (0 a 100).\n",
        "        volt (float): Índice de Voltar a Fazer Negócio (0 a 100).\n",
        "        nota (float): Nota do Consumidor (0 a 10).\n",
        "\n",
        "    Returns:\n",
        "        float: Reputação calculada, arredondada para 2 casas decimais (de 0 a 10).\n",
        "    \"\"\"\n",
        "    # Pesos de cada índice (ajustados para a escala de 0 a 10)\n",
        "    peso_resposta = 0.20\n",
        "    peso_solucao = 0.40\n",
        "    peso_voltar_negocio = 0.20\n",
        "    peso_nota_consumidor = 0.20\n",
        "\n",
        "    # Normalizar a nota do consumidor para a mesma escala dos percentuais (0 a 100)\n",
        "    # E os demais valores de porcentagem também devem ser normalizados\n",
        "    reputacao_100 = (resp * peso_resposta) + \\\n",
        "                     (sol * peso_solucao) + \\\n",
        "                     (volt * peso_voltar_negocio) + \\\n",
        "                     (nota * 10 * peso_nota_consumidor)\n",
        "\n",
        "    return round(reputacao_100 / 10, 2)\n",
        "\n",
        "def interpretar_reputacao(reputacao):\n",
        "    \"\"\"\n",
        "    Interpreta a reputação calculada e retorna uma string com emoji.\n",
        "\n",
        "    Args:\n",
        "        reputacao (float): A nota da reputação (de 0 a 10).\n",
        "\n",
        "    Returns:\n",
        "        tuple: (mensagem, emoji)\n",
        "    \"\"\"\n",
        "    if reputacao >= 9.0:\n",
        "        return \"RA1000 - Uma das melhores empresas! 💯\", \"⭐\"\n",
        "    elif reputacao >= 8.0:\n",
        "        return \"Ótima - Excelente trabalho! 😄\", \"👏\"\n",
        "    elif reputacao >= 7.0:\n",
        "        return \"Boa - Satisfatória, mas com espaço para melhoria. 😊\", \"👍\"\n",
        "    elif reputacao >= 6.0:\n",
        "        return \"Regular - Precisa melhorar em alguns pontos. 😐\", \"⚠️\"\n",
        "    elif reputacao >= 5.0:\n",
        "        return \"Ruim - O desempenho não está bom. 😠\", \"👎\"\n",
        "    else:\n",
        "        return \"Não Recomendada - O desempenho é preocupante. 😡\", \"❌\"\n"
      ],
      "metadata": {
        "id": "Hvnqobg4p2tA"
      },
      "execution_count": 16,
      "outputs": []
    },
    {
      "cell_type": "markdown",
      "source": [
        "**Insira os Dados da Empresa**\n",
        "Agora, vamos inserir os valores para os índices de uma empresa específica. Execute a célula de código abaixo e digite os dados quando solicitado."
      ],
      "metadata": {
        "id": "MKjZC5n7quvF"
      }
    },
    {
      "cell_type": "code",
      "source": [
        "# --- Célula 2: Entrada de Dados e Execução ---\n",
        "\n",
        "print(\"Calculadora de Reputação Reclame AQUI ✨\")\n",
        "print(\"---------------------------------------\")\n",
        "print(\"Por favor, insira os dados percentuais (0 a 100) e a nota (0 a 10).\")\n",
        "\n",
        "try:\n",
        "    # Coletar a entrada do usuário\n",
        "    indice_respostas = float(input(\"Índice de Resposta (%): \"))\n",
        "    indice_solucoes = float(input(\"Índice de Solução (%): \"))\n",
        "    indice_voltar_negocio = float(input(\"Índice de Voltar a Fazer Negócio (%): \"))\n",
        "    nota_consumidor = float(input(\"Nota do Consumidor (0 a 10): \"))\n",
        "\n",
        "    # Executar a função de cálculo\n",
        "    reputacao_calculada = calcular_reputacao_ra(indice_respostas,\n",
        "                                               indice_solucoes,\n",
        "                                               indice_voltar_negocio,\n",
        "                                               nota_consumidor)\n",
        "\n",
        "    # Interpretar a reputação\n",
        "    interpretacao, emoji = interpretar_reputacao(reputacao_calculada)\n",
        "\n",
        "    # Exibir o resultado\n",
        "    print(\"\\n--- Resultado do Cálculo ---\")\n",
        "    print(f\"Reputação calculada: {reputacao_calculada} {emoji}\")\n",
        "    print(f\"Interpretação: {interpretacao}\")\n",
        "\n",
        "except ValueError:\n",
        "    print(\"\\n⚠️ Erro: Entrada inválida. Por favor, insira apenas valores numéricos.\")\n",
        "\n",
        "\n"
      ],
      "metadata": {
        "colab": {
          "base_uri": "https://localhost:8080/"
        },
        "id": "zs5KOIUEq04c",
        "outputId": "06c45152-d6f1-488b-c109-105064a458b1"
      },
      "execution_count": 17,
      "outputs": [
        {
          "output_type": "stream",
          "name": "stdout",
          "text": [
            "Calculadora de Reputação Reclame AQUI ✨\n",
            "---------------------------------------\n",
            "Por favor, insira os dados percentuais (0 a 100) e a nota (0 a 10).\n",
            "Índice de Resposta (%): 100\n",
            "Índice de Solução (%): 80\n",
            "Índice de Voltar a Fazer Negócio (%): 50\n",
            "Nota do Consumidor (0 a 10): 7\n",
            "\n",
            "--- Resultado do Cálculo ---\n",
            "Reputação calculada: 7.6 👍\n",
            "Interpretação: Boa - Satisfatória, mas com espaço para melhoria. 😊\n"
          ]
        }
      ]
    }
  ]
}