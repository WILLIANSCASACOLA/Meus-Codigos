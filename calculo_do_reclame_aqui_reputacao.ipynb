{
  "nbformat": 4,
  "nbformat_minor": 0,
  "metadata": {
    "colab": {
      "provenance": [],
      "authorship_tag": "ABX9TyMtSCLmvt2VI9R96YOYFaGy",
      "include_colab_link": true
    },
    "kernelspec": {
      "name": "python3",
      "display_name": "Python 3"
    },
    "language_info": {
      "name": "python"
    }
  },
  "cells": [
    {
      "cell_type": "markdown",
      "metadata": {
        "id": "view-in-github",
        "colab_type": "text"
      },
      "source": [
        "<a href=\"https://colab.research.google.com/github/WILLIANSCASACOLA/Meus-Codigos/blob/main/calculo_do_reclame_aqui_reputacao.ipynb\" target=\"_parent\"><img src=\"https://colab.research.google.com/assets/colab-badge.svg\" alt=\"Open In Colab\"/></a>"
      ]
    },
    {
      "cell_type": "markdown",
      "source": [
        "**Calculadora de Reputação Reclame AQUI**\n",
        "\n",
        "Este notebook foi criado para simular o cálculo da reputação de uma empresa no Reclame AQUI. A nota final é uma média ponderada baseada em quatro índices principais:\n",
        "\n",
        "\n",
        "\n",
        "1.   Índice de Resposta\n",
        "2.   Índice de Solução\n",
        "3.   Índice de Voltar a Fazer Negócio\n",
        "4.   Nota do Consumidor\n",
        "\n",
        "*A fórmula exata e os pesos podem variar, mas a lógica aqui é uma representação didática de como esse cálculo funciona, permitindo que você insira valores e veja o resultado.*"
      ],
      "metadata": {
        "id": "SkiWv_yfpu0P"
      }
    },
    {
      "cell_type": "markdown",
      "source": [
        "**Insira os Dados da Empresa**\n",
        "Agora, vamos inserir os valores para os índices de uma empresa específica. Execute a célula de código abaixo e digite os dados quando solicitado."
      ],
      "metadata": {
        "id": "MKjZC5n7quvF"
      }
    },
    {
      "cell_type": "code",
      "source": [
        "# --- Célula 1: Configuração e Funções ---\n",
        "from datetime import datetime\n",
        "import os\n",
        "\n",
        "def calcular_reputacao_ra_oficial(resp, sol, volt, nota):\n",
        "    \"\"\"\n",
        "    Calcula a reputação do Reclame AQUI usando a fórmula oficial.\n",
        "\n",
        "    Args:\n",
        "        resp (float): Índice de Resposta (0 a 100).\n",
        "        sol (float): Índice de Solução (0 a 100).\n",
        "        volt (float): Índice de Voltar a Fazer Negócio (0 a 100).\n",
        "        nota (float): Nota do Consumidor (0 a 10).\n",
        "\n",
        "    Returns:\n",
        "        float: Reputação calculada (de 0 a 10).\n",
        "    \"\"\"\n",
        "    if resp < 50:\n",
        "        return 0.0\n",
        "\n",
        "    ar = ((resp * 2) + (nota * 10 * 3) + (sol * 3) + (volt * 2)) / 100\n",
        "\n",
        "    if ar >= 8.0 and resp >= 70 and sol >= 70 and volt >= 70 and nota >= 7:\n",
        "        return 10.0\n",
        "\n",
        "    return round(ar, 2)\n",
        "\n",
        "\n",
        "def interpretar_reputacao_oficial(reputacao, indice_resposta):\n",
        "    \"\"\"\n",
        "    Interpreta a reputação calculada e retorna uma string com emoji.\n",
        "\n",
        "    Args:\n",
        "        reputacao (float): A nota da reputação (de 0 a 10).\n",
        "        indice_resposta (float): Índice de Resposta.\n",
        "\n",
        "    Returns:\n",
        "        tuple: (mensagem, emoji)\n",
        "    \"\"\"\n",
        "    if indice_resposta < 50:\n",
        "        return \"Não Recomendada (IR < 50%) 😡\", \"❌\"\n",
        "    elif reputacao == 10.0:\n",
        "        return \"RA1000 - Uma das melhores empresas! 💯\", \"⭐\"\n",
        "    elif reputacao >= 8.0:\n",
        "        return \"Ótima - Excelente trabalho! 😄\", \"👏\"\n",
        "    elif reputacao >= 7.0:\n",
        "        return \"Boa - Satisfatória. 😊\", \"👍\"\n",
        "    elif reputacao >= 6.0:\n",
        "        return \"Regular - Precisa melhorar. 😐\", \"⚠️\"\n",
        "    elif reputacao >= 5.0:\n",
        "        return \"Ruim - Desempenho não está bom. 😠\", \"👎\"\n",
        "    else:\n",
        "        return \"Não Recomendada - Desempenho é preocupante. 😡\", \"❌\"\n",
        "\n",
        "\n",
        "def limpar_tela():\n",
        "    \"\"\"Limpa a tela do terminal.\"\"\"\n",
        "    os.system('cls' if os.name == 'nt' else 'clear')\n",
        "\n",
        "\n",
        "# --- Célula 2: Entrada de Dados e Execução com Loop ---\n",
        "\n",
        "print(\"Calculadora de Reputação Reclame AQUI (Oficial) ✨\")\n",
        "print(\"---------------------------------------\")\n",
        "\n",
        "while True:\n",
        "    print(\"\\nPor favor, insira os dados percentuais (0 a 100) e a nota (0 a 10).\")\n",
        "\n",
        "    try:\n",
        "        indice_respostas = float(input(\"Índice de Resposta (%): \"))\n",
        "        indice_solucoes = float(input(\"Índice de Solução (%): \"))\n",
        "        indice_voltar_negocio = float(input(\"Índice de Voltar a Fazer Negócio (%): \"))\n",
        "        nota_consumidor = float(input(\"Nota do Consumidor (0 a 10): \"))\n",
        "\n",
        "        print(\"\\n--- Dados Fornecidos ---\")\n",
        "        print(f\"Índice de Resposta: {indice_respostas}%\")\n",
        "        print(f\"Índice de Solução: {indice_solucoes}%\")\n",
        "        print(f\"Índice de Voltar a Fazer Negócio: {indice_voltar_negocio}%\")\n",
        "        print(f\"Nota do Consumidor: {nota_consumidor}/10\")\n",
        "\n",
        "        reputacao_calculada = calcular_reputacao_ra_oficial(\n",
        "            indice_respostas,\n",
        "            indice_solucoes,\n",
        "            indice_voltar_negocio,\n",
        "            nota_consumidor\n",
        "        )\n",
        "\n",
        "        interpretacao, emoji = interpretar_reputacao_oficial(reputacao_calculada, indice_respostas)\n",
        "        data_hora_atual = datetime.now().strftime(\"%d/%m/%Y às %H:%M:%S\")\n",
        "\n",
        "        print(\"\\n--- Resultado do Cálculo ---\")\n",
        "        print(f\"Reputação calculada: {reputacao_calculada} {emoji}\")\n",
        "        print(f\"Interpretação: {interpretacao}\")\n",
        "        print(f\"\\nCalculado em: {data_hora_atual}\")\n",
        "\n",
        "        link_formula = \"https://faleconosco.reclameaqui.com.br/s/article/Como-posso-estimar-a-nota-da-minha-empresa\"\n",
        "        print(f\"\\n*Para entender o cálculo, acesse a fórmula oficial do Reclame AQUI: {link_formula}\")\n",
        "\n",
        "    except ValueError:\n",
        "        print(\"\\n⚠️ Erro: Entrada inválida. Por favor, insira apenas valores numéricos.\")\n",
        "\n",
        "    continuar = input(\"\\nDeseja fazer outro cálculo? (s/n): \").strip().lower()\n",
        "    if continuar == 's':\n",
        "        limpar_tela()\n",
        "        print(\"Calculadora de Reputação Reclame AQUI (Oficial) ✨\")\n",
        "        print(\"---------------------------------------\")\n",
        "    else:\n",
        "        print(\"\\nObrigado por usar a calculadora de reputação! 👋\")\n",
        "        break"
      ],
      "metadata": {
        "colab": {
          "base_uri": "https://localhost:8080/"
        },
        "id": "U4kQa-IwvDEc",
        "outputId": "bd7ec2a6-5d6a-4c11-a387-175b3f74f187"
      },
      "execution_count": 22,
      "outputs": [
        {
          "output_type": "stream",
          "name": "stdout",
          "text": [
            "Calculadora de Reputação Reclame AQUI (Oficial) ✨\n",
            "---------------------------------------\n",
            "\n",
            "Por favor, insira os dados percentuais (0 a 100) e a nota (0 a 10).\n",
            "Índice de Resposta (%): 90\n",
            "Índice de Solução (%): 60\n",
            "Índice de Voltar a Fazer Negócio (%): 80\n",
            "Nota do Consumidor (0 a 10): 3\n",
            "\n",
            "--- Dados Fornecidos ---\n",
            "Índice de Resposta: 90.0%\n",
            "Índice de Solução: 60.0%\n",
            "Índice de Voltar a Fazer Negócio: 80.0%\n",
            "Nota do Consumidor: 3.0/10\n",
            "\n",
            "--- Resultado do Cálculo ---\n",
            "Reputação calculada: 6.1 ⚠️\n",
            "Interpretação: Regular - Precisa melhorar. 😐\n",
            "\n",
            "Calculado em: 21/09/2025 às 19:51:48\n",
            "\n",
            "*Para entender o cálculo, acesse a fórmula oficial do Reclame AQUI: https://faleconosco.reclameaqui.com.br/s/article/Como-posso-estimar-a-nota-da-minha-empresa\n",
            "\n",
            "Deseja fazer outro cálculo? (s/n): n\n",
            "\n",
            "Obrigado por usar a calculadora de reputação! 👋\n"
          ]
        }
      ]
    }
  ]
}