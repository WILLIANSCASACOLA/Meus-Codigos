{
 "cells": [
  {
   "cell_type": "code",
   "execution_count": null,
   "id": "988fd7fa",
   "metadata": {},
   "outputs": [],
   "source": [
    "#   Agendaros scripts Python no Windows Task Scheduler"
   ]
  },
  {
   "cell_type": "code",
   "execution_count": null,
   "id": "aab0b3e2",
   "metadata": {},
   "outputs": [],
   "source": [
    "import schedule\n",
    "import time\n",
    "\n",
    "def job():\n",
    "    print(\"Executando o script Python...\")\n",
    "    # Coloque aqui o código do seu script Python que você deseja agendar\n",
    "    # Por exemplo, você pode chamar uma função ou executar um arquivo .py\n",
    "\n",
    "    #schedule.every().day.at(\"10:00\").do(job)  # Agendar para executar todos os dias às 10:00\n",
    "schedule.every(1).seconds.do(job)  # Agendar para executar a cada 1 minuto\n",
    "while True:\n",
    "        schedule.run_pending()\n",
    "        time.sleep(1)"
   ]
  }
 ],
 "metadata": {
  "kernelspec": {
   "display_name": "Python 3",
   "language": "python",
   "name": "python3"
  },
  "language_info": {
   "codemirror_mode": {
    "name": "ipython",
    "version": 3
   },
   "file_extension": ".py",
   "mimetype": "text/x-python",
   "name": "python",
   "nbconvert_exporter": "python",
   "pygments_lexer": "ipython3",
   "version": "3.11.9"
  }
 },
 "nbformat": 4,
 "nbformat_minor": 5
}
