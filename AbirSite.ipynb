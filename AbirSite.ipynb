{
 "cells": [
  {
   "cell_type": "code",
   "execution_count": 22,
   "id": "3cf33d43",
   "metadata": {},
   "outputs": [],
   "source": [
    "#Abrir o google chorume\n",
    "import webbrowser\n",
    "import time\n",
    "site= \"https://www.google.com\"\n",
    "webbrowser.open(site)\n",
    "#Escrever o google\n",
    "import pyautogui\n",
    "time.sleep(3)  # Espera 5 segundos para o navegador abrir\n",
    "pyautogui.write(\"Placa de video\", interval=0.25)\n",
    "#Clicar no google\n",
    "time.sleep(2)\n",
    "pyautogui.press(\"enter\")\n",
    "\n",
    "\n",
    "\n"
   ]
  },
  {
   "cell_type": "code",
   "execution_count": null,
   "id": "cf9e8177",
   "metadata": {},
   "outputs": [],
   "source": []
  }
 ],
 "metadata": {
  "kernelspec": {
   "display_name": "Python 3",
   "language": "python",
   "name": "python3"
  },
  "language_info": {
   "codemirror_mode": {
    "name": "ipython",
    "version": 3
   },
   "file_extension": ".py",
   "mimetype": "text/x-python",
   "name": "python",
   "nbconvert_exporter": "python",
   "pygments_lexer": "ipython3",
   "version": "3.11.9"
  }
 },
 "nbformat": 4,
 "nbformat_minor": 5
}
