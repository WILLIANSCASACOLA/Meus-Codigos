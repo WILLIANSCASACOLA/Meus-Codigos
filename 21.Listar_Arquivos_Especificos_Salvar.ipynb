{
 "cells": [
  {
   "cell_type": "code",
   "execution_count": 1,
   "id": "35bca8d9",
   "metadata": {},
   "outputs": [],
   "source": [
    "import os\n",
    "import shutil\n",
    "import time\n",
    "import win32com.client"
   ]
  },
  {
   "cell_type": "code",
   "execution_count": 2,
   "id": "cba4e447",
   "metadata": {},
   "outputs": [
    {
     "name": "stdout",
     "output_type": "stream",
     "text": [
      "Data de hoje: 24-08-2025\n"
     ]
    }
   ],
   "source": [
    "Data_Hoje = time.strftime(\"%d-%m-%Y\") # Formata a data atual no formato dia-mês-ano\n",
    "print(f\"Data de hoje: {Data_Hoje}\") # Exibe a data atual\n",
    "speaker = win32com.client.Dispatch(\"SAPI.SpVoice\") # Inicializa o objeto de voz"
   ]
  },
  {
   "cell_type": "code",
   "execution_count": 3,
   "id": "bf4f4e90",
   "metadata": {},
   "outputs": [
    {
     "name": "stdout",
     "output_type": "stream",
     "text": [
      "Arquivo copiado: cht_csat_unificado_20250801.xlsx\n",
      "Arquivo copiado: cht_csat_unificado_20250802.xlsx\n",
      "Arquivo copiado: cht_csat_unificado_20250803.xlsx\n",
      "\n",
      "Total de arquivos colados: 3\n"
     ]
    }
   ],
   "source": [
    "#Diretório de origem e destino\n",
    "caminhoColar = r\"C:\\Aplicativos\\Meus_Arquivos_Willian\\Ambiente_Desenvolvimento\\Arquivos_out\\out\"\n",
    "\n",
    "#Diretório onde os arquivos serão copiados\n",
    "caminho = r\"C:\\Aplicativos\\Meus_Arquivos_Willian\\Ambiente_Desenvolvimento\\Arquivos_in\\DiretorioDisponibilizado\"\n",
    "arquivos = os.listdir(caminho)\n",
    "\n",
    "for arquivo in arquivos:\n",
    "    if \".xlsx\" in arquivo and \"cht_csat_unificado_202508\" in arquivo:\n",
    "        shutil.copy(os.path.join(caminho, arquivo), caminhoColar)\n",
    "        print(f\"Arquivo copiado: {arquivo}\")  # Imprime só o arquivo copiado\n",
    "\n",
    "# Lista e conta os arquivos no diretório de destino\n",
    "arquivosColados = os.listdir(caminhoColar)\n",
    "print(f\"\\nTotal de arquivos colados: {len(arquivosColados)}\")\n",
    "Quantidade = len(arquivosColados)\n",
    "\n",
    "speaker.Speak(f\"Dados salvos com êxito, foram salvos{Quantidade} arquivos\") # Fala o nome do usuário e a data atual\n",
    "\n",
    "#Abrir o diretório de destino\n",
    "os.startfile(caminhoColar)"
   ]
  },
  {
   "cell_type": "code",
   "execution_count": null,
   "id": "043ef41e",
   "metadata": {},
   "outputs": [],
   "source": []
  }
 ],
 "metadata": {
  "kernelspec": {
   "display_name": "Python 3",
   "language": "python",
   "name": "python3"
  },
  "language_info": {
   "codemirror_mode": {
    "name": "ipython",
    "version": 3
   },
   "file_extension": ".py",
   "mimetype": "text/x-python",
   "name": "python",
   "nbconvert_exporter": "python",
   "pygments_lexer": "ipython3",
   "version": "3.11.9"
  }
 },
 "nbformat": 4,
 "nbformat_minor": 5
}
