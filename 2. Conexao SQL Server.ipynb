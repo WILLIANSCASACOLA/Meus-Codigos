{
 "cells": [
  {
   "cell_type": "code",
   "execution_count": 1,
   "id": "b5b76d82",
   "metadata": {},
   "outputs": [],
   "source": [
    "# Conexão com SQL Server\n",
    "import pandas as pd\n",
    "import pyodbc\n",
    "\n",
    "server = 'WILLIAN\\SQLEXPRESS'\n",
    "database = 'SQL_DB_1'\n",
    "\n",
    "conexao = pyodbc.connect('DRIVER={ODBC Driver 17 for SQL Server};'\n",
    "                         f'SERVER={server};'\n",
    "                         f'DATABASE={database};'\n",
    "                         'Trusted_Connection=yes;')\n",
    "cursor = conexao.cursor()\n"
   ]
  },
  {
   "cell_type": "code",
   "execution_count": 2,
   "id": "5e085f91",
   "metadata": {},
   "outputs": [
    {
     "data": {
      "text/html": [
       "<div>\n",
       "<style scoped>\n",
       "    .dataframe tbody tr th:only-of-type {\n",
       "        vertical-align: middle;\n",
       "    }\n",
       "\n",
       "    .dataframe tbody tr th {\n",
       "        vertical-align: top;\n",
       "    }\n",
       "\n",
       "    .dataframe thead th {\n",
       "        text-align: right;\n",
       "    }\n",
       "</style>\n",
       "<table border=\"1\" class=\"dataframe\">\n",
       "  <thead>\n",
       "    <tr style=\"text-align: right;\">\n",
       "      <th></th>\n",
       "      <th>ID</th>\n",
       "      <th>Name</th>\n",
       "      <th>Price</th>\n",
       "      <th>Id_Category</th>\n",
       "    </tr>\n",
       "  </thead>\n",
       "  <tbody>\n",
       "    <tr>\n",
       "      <th>0</th>\n",
       "      <td>0</td>\n",
       "      <td>Sapato vermelho</td>\n",
       "      <td>96</td>\n",
       "      <td>0</td>\n",
       "    </tr>\n",
       "    <tr>\n",
       "      <th>1</th>\n",
       "      <td>0</td>\n",
       "      <td>Sapato vermelho</td>\n",
       "      <td>96</td>\n",
       "      <td>0</td>\n",
       "    </tr>\n",
       "    <tr>\n",
       "      <th>2</th>\n",
       "      <td>1</td>\n",
       "      <td>Bolsa mais que Velha</td>\n",
       "      <td>8000</td>\n",
       "      <td>0</td>\n",
       "    </tr>\n",
       "    <tr>\n",
       "      <th>3</th>\n",
       "      <td>2</td>\n",
       "      <td>Calça</td>\n",
       "      <td>75</td>\n",
       "      <td>0</td>\n",
       "    </tr>\n",
       "    <tr>\n",
       "      <th>4</th>\n",
       "      <td>3</td>\n",
       "      <td>Camisa apertadinha</td>\n",
       "      <td>170</td>\n",
       "      <td>0</td>\n",
       "    </tr>\n",
       "  </tbody>\n",
       "</table>\n",
       "</div>"
      ],
      "text/plain": [
       "   ID                  Name  Price  Id_Category\n",
       "0   0       Sapato vermelho     96            0\n",
       "1   0       Sapato vermelho     96            0\n",
       "2   1  Bolsa mais que Velha   8000            0\n",
       "3   2                 Calça     75            0\n",
       "4   3    Camisa apertadinha    170            0"
      ]
     },
     "execution_count": 2,
     "metadata": {},
     "output_type": "execute_result"
    }
   ],
   "source": [
    "dados = pd.read_excel(r'C:\\Aplicativos\\Meus_Arquivos_Willian\\Ambiente_Desenvolvimento\\Arquivos_in\\Produto.xlsx')\n",
    "dados.head()"
   ]
  },
  {
   "cell_type": "code",
   "execution_count": 3,
   "id": "8dfa5479",
   "metadata": {},
   "outputs": [
    {
     "data": {
      "text/plain": [
       "'Index([ID, Name, Price, Id_Category], dtype=object)'"
      ]
     },
     "execution_count": 3,
     "metadata": {},
     "output_type": "execute_result"
    }
   ],
   "source": [
    "#Pegar o nome das colunas\n",
    "colunas = dados.columns\n",
    "str(colunas).replace(\"'\",\"\")"
   ]
  },
  {
   "cell_type": "markdown",
   "id": "ad983d59",
   "metadata": {},
   "source": [
    "Apagar os dados antes de inserir"
   ]
  },
  {
   "cell_type": "code",
   "execution_count": 4,
   "id": "df05463e",
   "metadata": {},
   "outputs": [],
   "source": [
    "cursor.execute(\"TRUNCATE TABLE [Produtos]\")  # Apagar os dados antes de inserir\n",
    "cursor.commit()  # Validar dados no SQL Server"
   ]
  },
  {
   "cell_type": "markdown",
   "id": "648dbee9",
   "metadata": {},
   "source": [
    "Inserindo DataFrame no Banco"
   ]
  },
  {
   "cell_type": "code",
   "execution_count": 5,
   "id": "22635348",
   "metadata": {},
   "outputs": [],
   "source": [
    "for index, linha in dados.iterrows():\n",
    "    cursor.execute(\"Insert into [Produtos](ID, Nome, Price, Id_Category) values(?, ?, ?, ?)\",linha.ID, linha.Name, linha.Price, linha.Id_Category)\n",
    "cursor.commit() # validar dados no SQL Server\n",
    "cursor.close()  # fechar cursor\n",
    "conexao.close() # Fechar conexao"
   ]
  }
 ],
 "metadata": {
  "kernelspec": {
   "display_name": "Python 3",
   "language": "python",
   "name": "python3"
  },
  "language_info": {
   "codemirror_mode": {
    "name": "ipython",
    "version": 3
   },
   "file_extension": ".py",
   "mimetype": "text/x-python",
   "name": "python",
   "nbconvert_exporter": "python",
   "pygments_lexer": "ipython3",
   "version": "3.11.9"
  }
 },
 "nbformat": 4,
 "nbformat_minor": 5
}
