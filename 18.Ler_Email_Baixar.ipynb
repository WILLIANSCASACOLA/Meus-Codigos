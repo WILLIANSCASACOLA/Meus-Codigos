{
 "cells": [
  {
   "cell_type": "markdown",
   "id": "4a43ffd4",
   "metadata": {},
   "source": [
    "Ler caixa de E-mail e baixar os arquivos"
   ]
  },
  {
   "cell_type": "code",
   "execution_count": 1,
   "id": "053a4ea7",
   "metadata": {},
   "outputs": [],
   "source": [
    "#Bibliotecas\n",
    "import os\n",
    "import win32com.client\n",
    "import time\n",
    "from datetime import datetime"
   ]
  },
  {
   "cell_type": "code",
   "execution_count": 2,
   "id": "887fea28",
   "metadata": {},
   "outputs": [],
   "source": [
    "#Variaveis\n",
    "usuario = os.getlogin() # Pega o nome do usuário logado no sistema\n",
    "Data_Hoje = time.strftime(\"%d-%m-%Y\") # Formata a data atual no formato dia-mês-ano\n",
    "\n",
    "# Pega a hora atual\n",
    "hora_atual = datetime.now().hour\n",
    "\n",
    "# Verifica o período do dia\n",
    "if 5 <= hora_atual < 12:\n",
    "    saudacao = \"Bom dia\"\n",
    "elif 12 <= hora_atual < 18:\n",
    "    saudacao = \"Boa tarde\"\n",
    "else:\n",
    "    saudacao = \"Boa noite\""
   ]
  },
  {
   "cell_type": "code",
   "execution_count": 3,
   "id": "52f3c88e",
   "metadata": {},
   "outputs": [
    {
     "name": "stdout",
     "output_type": "stream",
     "text": [
      "Removido: 60120661553245F5CF0795A4DEE00AAB33372E60C626.pdf\n",
      "Removido: fatura.pdf\n",
      "Removido: FATURA_5027_26072025.pdf\n",
      "Removido: Fatura_MASTERCARD_100504564361_07-2025.pdf\n",
      "Removido: Termo de Acordo.pdf\n",
      "Todos os arquivos foram apagados com sucesso.😁👌\n"
     ]
    }
   ],
   "source": [
    "# Caminho da pasta limpar aquivos\n",
    "pasta = r\"C:\\Aplicativos\\Pagamentos\"\n",
    "\n",
    "# Itera sobre os arquivos e remove\n",
    "for arquivo in os.listdir(pasta):\n",
    "    caminho_arquivo = os.path.join(pasta, arquivo)\n",
    "    if os.path.isfile(caminho_arquivo):\n",
    "        os.remove(caminho_arquivo)\n",
    "        print(f\"Removido: {arquivo}\")\n",
    "\n",
    "print(\"Todos os arquivos foram apagados com sucesso.😁👌\")\n"
   ]
  },
  {
   "cell_type": "code",
   "execution_count": 4,
   "id": "b59e24fd",
   "metadata": {},
   "outputs": [
    {
     "name": "stdout",
     "output_type": "stream",
     "text": [
      "Arquivo salvo: Fatura_MASTERCARD_100504564361_07-2025.pdf\n",
      "Arquivo salvo: FATURA_5027_26072025.pdf\n",
      "Arquivo salvo: 60120661553245F5CF0795A4DEE00AAB33372E60C626.pdf\n",
      "Arquivo salvo: fatura.pdf\n",
      "Arquivo salvo: Termo de Acordo.pdf\n",
      "Arquivo salvo: fatura.pdf\n",
      "\n",
      " Olá User, Boa noite Processo concluído com sucesso! Total de arquivos baixados: 6 👍😁\n"
     ]
    }
   ],
   "source": [
    "#Salvando arquivos\n",
    "# Crie uma instância do Outlook\n",
    "outlook = win32com.client.Dispatch(\"Outlook.Application\")\n",
    "namespace = outlook.GetNamespace(\"MAPI\")\n",
    "\n",
    "# Obtenha a caixa de entrada padrão\n",
    "inbox_folder = namespace.GetDefaultFolder(6)  # 6 = Caixa de entrada\n",
    "subfolders = inbox_folder.Folders[\"Pagamentos\"]  # Subpasta \"Pagamentos\"\n",
    "\n",
    "# Caminho de destino\n",
    "destino = r\"C:\\Aplicativos\\Pagamentos\"\n",
    "\n",
    "# Contador de arquivos\n",
    "contador = 0\n",
    "\n",
    "# Itera sobre os e-mails\n",
    "for item in subfolders.Items:\n",
    "    if item.Class == 43:  # Verifica se é um e-mail\n",
    "        for attachment in item.Attachments:\n",
    "            filename = attachment.FileName\n",
    "            filepath = os.path.join(destino, filename)\n",
    "\n",
    "            # Salva o anexo\n",
    "            attachment.SaveAsFile(filepath)\n",
    "            contador += 1\n",
    "            print(f\"Arquivo salvo: {filename}\")\n",
    "\n",
    "print(f\"\\n Olá {usuario}, {saudacao} Processo concluído com sucesso! Total de arquivos baixados: {contador} 👍😁\")"
   ]
  },
  {
   "cell_type": "code",
   "execution_count": 5,
   "id": "e0b386f0",
   "metadata": {},
   "outputs": [],
   "source": [
    "# Abrir diretorio onde os arquivos foram baixados\n",
    "os.startfile(\"C:\\Aplicativos\\Pagamentos\")  # Abre o diretório\n"
   ]
  }
 ],
 "metadata": {
  "kernelspec": {
   "display_name": "Python 3",
   "language": "python",
   "name": "python3"
  },
  "language_info": {
   "codemirror_mode": {
    "name": "ipython",
    "version": 3
   },
   "file_extension": ".py",
   "mimetype": "text/x-python",
   "name": "python",
   "nbconvert_exporter": "python",
   "pygments_lexer": "ipython3",
   "version": "3.11.9"
  }
 },
 "nbformat": 4,
 "nbformat_minor": 5
}
