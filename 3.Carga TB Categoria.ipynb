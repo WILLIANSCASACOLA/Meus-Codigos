{
 "cells": [
  {
   "cell_type": "code",
   "execution_count": 97,
   "id": "b5b76d82",
   "metadata": {},
   "outputs": [],
   "source": [
    "# Conexão com SQL Server\n",
    "import pandas as pd\n",
    "import pyodbc\n",
    "\n",
    "server = 'WILLIAN\\SQLEXPRESS'\n",
    "database = 'SQL_DB_1'\n",
    "\n",
    "conexao = pyodbc.connect('DRIVER={ODBC Driver 17 for SQL Server};'\n",
    "                         f'SERVER={server};'\n",
    "                         f'DATABASE={database};'\n",
    "                         'Trusted_Connection=yes;')\n",
    "cursor = conexao.cursor()\n"
   ]
  },
  {
   "cell_type": "code",
   "execution_count": 98,
   "id": "5e085f91",
   "metadata": {},
   "outputs": [
    {
     "data": {
      "text/html": [
       "<div>\n",
       "<style scoped>\n",
       "    .dataframe tbody tr th:only-of-type {\n",
       "        vertical-align: middle;\n",
       "    }\n",
       "\n",
       "    .dataframe tbody tr th {\n",
       "        vertical-align: top;\n",
       "    }\n",
       "\n",
       "    .dataframe thead th {\n",
       "        text-align: right;\n",
       "    }\n",
       "</style>\n",
       "<table border=\"1\" class=\"dataframe\">\n",
       "  <thead>\n",
       "    <tr style=\"text-align: right;\">\n",
       "      <th></th>\n",
       "      <th>id</th>\n",
       "      <th>name</th>\n",
       "    </tr>\n",
       "  </thead>\n",
       "  <tbody>\n",
       "    <tr>\n",
       "      <th>0</th>\n",
       "      <td>0</td>\n",
       "      <td>Moda e Acessórios</td>\n",
       "    </tr>\n",
       "    <tr>\n",
       "      <th>1</th>\n",
       "      <td>1</td>\n",
       "      <td>Cosméticos e Perfumaria</td>\n",
       "    </tr>\n",
       "    <tr>\n",
       "      <th>2</th>\n",
       "      <td>2</td>\n",
       "      <td>Eletrodomésticos</td>\n",
       "    </tr>\n",
       "    <tr>\n",
       "      <th>3</th>\n",
       "      <td>3</td>\n",
       "      <td>Livros</td>\n",
       "    </tr>\n",
       "    <tr>\n",
       "      <th>4</th>\n",
       "      <td>4</td>\n",
       "      <td>Celulares</td>\n",
       "    </tr>\n",
       "  </tbody>\n",
       "</table>\n",
       "</div>"
      ],
      "text/plain": [
       "   id                     name\n",
       "0   0        Moda e Acessórios\n",
       "1   1  Cosméticos e Perfumaria\n",
       "2   2         Eletrodomésticos\n",
       "3   3                   Livros\n",
       "4   4                Celulares"
      ]
     },
     "execution_count": 98,
     "metadata": {},
     "output_type": "execute_result"
    }
   ],
   "source": [
    "dados = pd.read_excel(r'C:\\Aplicativos\\Meus_Arquivos_Willian\\Ambiente_Desenvolvimento\\Arquivos_in\\Categoria.xlsx')\n",
    "dados.head()"
   ]
  },
  {
   "cell_type": "code",
   "execution_count": 99,
   "id": "8dfa5479",
   "metadata": {},
   "outputs": [
    {
     "data": {
      "text/plain": [
       "'Index([id, name], dtype=object)'"
      ]
     },
     "execution_count": 99,
     "metadata": {},
     "output_type": "execute_result"
    }
   ],
   "source": [
    "#Pegar o nome das colunas\n",
    "colunas = dados.columns\n",
    "str(colunas).replace(\"'\",\"\")"
   ]
  },
  {
   "cell_type": "markdown",
   "id": "ad983d59",
   "metadata": {},
   "source": [
    "Apagar os dados antes de inserir"
   ]
  },
  {
   "cell_type": "code",
   "execution_count": 100,
   "id": "df05463e",
   "metadata": {},
   "outputs": [],
   "source": [
    "cursor.execute(\"TRUNCATE TABLE [Categoria]\")  # Apagar os dados antes de inserir\n",
    "cursor.commit()  # Validar dados no SQL Server"
   ]
  },
  {
   "cell_type": "markdown",
   "id": "648dbee9",
   "metadata": {},
   "source": [
    "Inserindo DataFrame no Banco"
   ]
  },
  {
   "cell_type": "code",
   "execution_count": 101,
   "id": "22635348",
   "metadata": {},
   "outputs": [],
   "source": [
    "for index, linha in dados.iterrows():\n",
    "    cursor.execute(\n",
    "        \"INSERT INTO [Categoria](id, Categoria) VALUES (?, ?)\",(linha['id'], linha['name'])\n",
    "    )\n",
    "cursor.commit()\n",
    "cursor.close()\n",
    "conexao.close()"
   ]
  },
  {
   "cell_type": "code",
   "execution_count": 102,
   "id": "ae84af13",
   "metadata": {},
   "outputs": [
    {
     "name": "stdout",
     "output_type": "stream",
     "text": [
      "Dados inseridos com sucesso na tabela Categoria.\n"
     ]
    }
   ],
   "source": [
    "print(\"Dados inseridos com sucesso na tabela Categoria.\")"
   ]
  }
 ],
 "metadata": {
  "kernelspec": {
   "display_name": "Python 3",
   "language": "python",
   "name": "python3"
  },
  "language_info": {
   "codemirror_mode": {
    "name": "ipython",
    "version": 3
   },
   "file_extension": ".py",
   "mimetype": "text/x-python",
   "name": "python",
   "nbconvert_exporter": "python",
   "pygments_lexer": "ipython3",
   "version": "3.11.9"
  }
 },
 "nbformat": 4,
 "nbformat_minor": 5
}
