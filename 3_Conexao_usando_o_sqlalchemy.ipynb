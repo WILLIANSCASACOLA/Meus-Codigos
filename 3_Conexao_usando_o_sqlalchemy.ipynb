{
  "nbformat": 4,
  "nbformat_minor": 0,
  "metadata": {
    "colab": {
      "provenance": [],
      "mount_file_id": "1ITxosbCT3EJNsQz8Hw4OMYbJEqjRTuyS",
      "authorship_tag": "ABX9TyNEfv9fKtnWgbMFU1QyUUaY",
      "include_colab_link": true
    },
    "kernelspec": {
      "name": "python3",
      "display_name": "Python 3"
    },
    "language_info": {
      "name": "python"
    }
  },
  "cells": [
    {
      "cell_type": "markdown",
      "metadata": {
        "id": "view-in-github",
        "colab_type": "text"
      },
      "source": [
        "<a href=\"https://colab.research.google.com/github/WILLIANSCASACOLA/Meus-Codigos/blob/main/3_Conexao_usando_o_sqlalchemy.ipynb\" target=\"_parent\"><img src=\"https://colab.research.google.com/assets/colab-badge.svg\" alt=\"Open In Colab\"/></a>"
      ]
    },
    {
      "cell_type": "markdown",
      "source": [
        "sqlalchemy"
      ],
      "metadata": {
        "id": "S9WVlsAVDfYq"
      }
    },
    {
      "cell_type": "code",
      "source": [
        "from sqlalchemy import create_engine, Integer, String, Column, Float\n",
        "import pandas as pd\n",
        "\n",
        "dbname = 'python'\n",
        "user = 'postgres'\n",
        "password = 'postgres'\n",
        "host = 'localhost'\n",
        "port = '5432'\n",
        "\n",
        "#String de conexao\n",
        "conexao_str = f'postgresql://{user}:{password}@{host}:{port}/{dbname}'\n",
        "\n",
        "#criar conexão usando o from sqlalchemy import create_engine\n",
        "engine = create_engine(conexao_str)\n",
        "\n",
        "#Nome da tabela no banco de dados\n",
        "nome_tabela ='Tab_dados'\n",
        "\n",
        "#Enviar Dataframe para o banco de dados\n",
        "df.to_sql(nome_tabela, engine, index=False, if_exists='replace', dtype={\n",
        "    'coluna1': Integer,\n",
        "    'coluna2': String,\n",
        "    'coluna3': Float\n",
        "})\n",
        "# dtype força o formato de coluna, você pode passar ele na hora de inserir os dados no banco de dados\n",
        "#Metodo de escrita\n",
        "#Replace = sobre escreve a tabela\n",
        "#append  = adciona dados no fim da tabela\n",
        "\n",
        "#Fechar conexão\n",
        "engine.dispose()\n"
      ],
      "metadata": {
        "id": "M2qZv9ZhDe2i"
      },
      "execution_count": 1,
      "outputs": []
    }
  ]
}