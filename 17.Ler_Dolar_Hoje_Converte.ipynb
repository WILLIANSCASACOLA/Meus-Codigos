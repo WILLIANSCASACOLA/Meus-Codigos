{
 "cells": [
  {
   "cell_type": "code",
   "execution_count": 1,
   "id": "d5d07f5c",
   "metadata": {},
   "outputs": [],
   "source": [
    "import win32com.client as win32\n",
    "from datetime import date, timedelta, datetime\n",
    "import os"
   ]
  },
  {
   "cell_type": "code",
   "execution_count": 2,
   "id": "96c1a5c6",
   "metadata": {},
   "outputs": [
    {
     "name": "stdout",
     "output_type": "stream",
     "text": [
      "18\n",
      "24/08/2025\n",
      "Boa noite!\n",
      "User\n",
      "18:37:57\n"
     ]
    }
   ],
   "source": [
    "HoraAtual  = datetime.today().strftime(\"%H\")\n",
    "HoraAtualConsulta  = datetime.today().strftime(\"%H:%M:%S\")\n",
    "DataAtual = date.today().strftime(\"%d/%m/%Y\")\n",
    "print(HoraAtual)\n",
    "print(DataAtual)\n",
    "\n",
    "#Definir mensamgem de saudação\n",
    "if HoraAtual < \"12\":\n",
    "    Mensagem = \"Bom dia!\"\n",
    "elif HoraAtual < \"18\":\n",
    "    Mensagem = \"Boa tarde!\"\n",
    "else:\n",
    "    Mensagem = \"Boa noite!\"\n",
    "print(Mensagem)\n",
    "\n",
    "# Pegar o nome do usuario do windows\n",
    "NomeUsuario = os.getlogin()\n",
    "print(NomeUsuario)\n",
    "print(HoraAtualConsulta)"
   ]
  },
  {
   "cell_type": "code",
   "execution_count": 3,
   "id": "01af46cb",
   "metadata": {},
   "outputs": [
    {
     "name": "stdout",
     "output_type": "stream",
     "text": [
      "Cotação do dólar hoje: R$ 5.47\n"
     ]
    }
   ],
   "source": [
    "#Ler o valor do dolar hoje e converter um valor em reais para dolares\n",
    "import requests\n",
    "def obter_cotacao_dolar():\n",
    "    url = \"https://api.exchangerate-api.com/v4/latest/USD\"\n",
    "    response = requests.get(url)\n",
    "    if response.status_code == 200:\n",
    "        data = response.json()\n",
    "        return data['rates']['BRL']\n",
    "    else:\n",
    "        raise Exception(\"Erro ao obter a cotação do dólar\")\n",
    "cotacao = obter_cotacao_dolar()\n",
    "print(f\"Cotação do dólar hoje: R$ {cotacao:.2f}\")"
   ]
  },
  {
   "cell_type": "code",
   "execution_count": 4,
   "id": "761df922",
   "metadata": {},
   "outputs": [
    {
     "name": "stdout",
     "output_type": "stream",
     "text": [
      "Email salvo com sucesso!\n"
     ]
    }
   ],
   "source": [
    "import win32com.client as win32\n",
    "\n",
    "AppOutlook = win32.Dispatch(\"Outlook.Application\")\n",
    "Email = AppOutlook.CreateItem(0)\n",
    "\n",
    "# Assunto e destinatários\n",
    "Email.Subject = f\"Olá Senhores, a cotação do dólar hoje ({DataAtual}) é de R$ {cotacao} eu acabei de verificar! Agora: {HoraAtualConsulta}h\"\n",
    "Email.To = \"willian.casacola@gmail.com;grascielerobertaviano@gmail.com\"\n",
    "\n",
    "# Corpo do e-mail em HTML\n",
    "Email.HTMLBody = f\"\"\"\n",
    "<p>{Mensagem}</p>\n",
    "<p>A cotação do dólar hoje ({DataAtual}) é de R$ {cotacao} 😊👌.</p>\n",
    "<p>Acesse o site pelo seguinte link: <a href=\"https://economia.uol.com.br/cotacoes/cambio/\">Visite este site</a></p>\n",
    "<p>Atenciosamente,<br>Willian Casacola</p>\n",
    "\"\"\"\n",
    "\n",
    "Email.Save()  # Salva como rascunho\n",
    "print(\"Email salvo com sucesso!\")"
   ]
  }
 ],
 "metadata": {
  "kernelspec": {
   "display_name": "Python 3",
   "language": "python",
   "name": "python3"
  },
  "language_info": {
   "codemirror_mode": {
    "name": "ipython",
    "version": 3
   },
   "file_extension": ".py",
   "mimetype": "text/x-python",
   "name": "python",
   "nbconvert_exporter": "python",
   "pygments_lexer": "ipython3",
   "version": "3.11.9"
  }
 },
 "nbformat": 4,
 "nbformat_minor": 5
}
