{
  "nbformat": 4,
  "nbformat_minor": 0,
  "metadata": {
    "colab": {
      "provenance": [],
      "authorship_tag": "ABX9TyMOxQNChyBtfALqTM4pkMDz",
      "include_colab_link": true
    },
    "kernelspec": {
      "name": "python3",
      "display_name": "Python 3"
    },
    "language_info": {
      "name": "python"
    }
  },
  "cells": [
    {
      "cell_type": "markdown",
      "metadata": {
        "id": "view-in-github",
        "colab_type": "text"
      },
      "source": [
        "<a href=\"https://colab.research.google.com/github/WILLIANSCASACOLA/Meus-Codigos/blob/main/Pesquisar_Cep.ipynb\" target=\"_parent\"><img src=\"https://colab.research.google.com/assets/colab-badge.svg\" alt=\"Open In Colab\"/></a>"
      ]
    },
    {
      "cell_type": "code",
      "execution_count": 27,
      "metadata": {
        "id": "zB4bS-4IKBoI"
      },
      "outputs": [],
      "source": [
        "import requests\n",
        "import json\n",
        "from pyspark.sql import SparkSession\n",
        "\n",
        "# Inicia a sessão Spark\n",
        "spark = SparkSession.builder.appName(\"ViaCEP\").getOrCreate()"
      ]
    },
    {
      "cell_type": "code",
      "source": [
        "# Pede o CEP ao usuário\n",
        "cep = input(\"Digite o CEP (apenas números): \")"
      ],
      "metadata": {
        "colab": {
          "base_uri": "https://localhost:8080/"
        },
        "id": "-P39X0dHOwUi",
        "outputId": "6ff16ab0-847c-4eb4-da81-1e7ec14f8480"
      },
      "execution_count": 28,
      "outputs": [
        {
          "name": "stdout",
          "output_type": "stream",
          "text": [
            "Digite o CEP (apenas números): 06663330\n"
          ]
        }
      ]
    },
    {
      "cell_type": "code",
      "source": [
        "\n",
        "# Monta a URL com o CEP informado\n",
        "url = f\"https://viacep.com.br/ws/{cep}/json/\"\n",
        "\n",
        "response = requests.get(url)\n",
        "\n",
        "# Verifica se a resposta foi bem-sucedida\n",
        "if response.status_code == 200:\n",
        "    data = response.json()\n",
        "\n",
        "    # Transforma o dicionário em uma lista de um item (Spark espera uma lista de registros)\n",
        "    data_list = [data]\n",
        "\n",
        "    # Cria o DataFrame\n",
        "    df = spark.createDataFrame(data_list)\n",
        "\n",
        "    # Mostra o resultado\n",
        "    df.show(truncate=False)\n",
        "else:\n",
        "    print(f\"Erro ao acessar a API: {response.status_code}\")"
      ],
      "metadata": {
        "id": "WrXdW-gkMmk5",
        "colab": {
          "base_uri": "https://localhost:8080/"
        },
        "outputId": "89c2a838-eb45-4ec7-b118-c90b14e868b0"
      },
      "execution_count": 29,
      "outputs": [
        {
          "output_type": "stream",
          "name": "stdout",
          "text": [
            "+---------------+---------+-----------+---+---------+----+-------+----------+-----------------------+-------+-----+---+-------+\n",
            "|bairro         |cep      |complemento|ddd|estado   |gia |ibge   |localidade|logradouro             |regiao |siafi|uf |unidade|\n",
            "+---------------+---------+-----------+---+---------+----+-------+----------+-----------------------+-------+-----+---+-------+\n",
            "|Jardim Paulista|06663-330|           |11 |São Paulo|3736|3522505|Itapevi   |Rua José de Paula Gomes|Sudeste|6551 |SP |       |\n",
            "+---------------+---------+-----------+---+---------+----+-------+----------+-----------------------+-------+-----+---+-------+\n",
            "\n"
          ]
        }
      ]
    },
    {
      "cell_type": "code",
      "source": [],
      "metadata": {
        "id": "YdOCHtrnOkR2"
      },
      "execution_count": 29,
      "outputs": []
    }
  ]
}