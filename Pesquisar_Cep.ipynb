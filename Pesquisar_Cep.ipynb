{
  "nbformat": 4,
  "nbformat_minor": 0,
  "metadata": {
    "colab": {
      "provenance": [],
      "authorship_tag": "ABX9TyPB9wF89lyQ7KTL8F9ODAa1",
      "include_colab_link": true
    },
    "kernelspec": {
      "name": "python3",
      "display_name": "Python 3"
    },
    "language_info": {
      "name": "python"
    }
  },
  "cells": [
    {
      "cell_type": "markdown",
      "metadata": {
        "id": "view-in-github",
        "colab_type": "text"
      },
      "source": [
        "<a href=\"https://colab.research.google.com/github/WILLIANSCASACOLA/Meus-Codigos/blob/main/Pesquisar_Cep.ipynb\" target=\"_parent\"><img src=\"https://colab.research.google.com/assets/colab-badge.svg\" alt=\"Open In Colab\"/></a>"
      ]
    },
    {
      "cell_type": "code",
      "execution_count": 44,
      "metadata": {
        "id": "zB4bS-4IKBoI"
      },
      "outputs": [],
      "source": [
        "import requests\n",
        "import json\n",
        "from pyspark.sql import SparkSession\n",
        "\n",
        "# Inicia a sessão Spark\n",
        "spark = SparkSession.builder.appName(\"ViaCEP\").getOrCreate()"
      ]
    },
    {
      "cell_type": "code",
      "source": [
        "# Pede o CEP ao usuário\n",
        "cep = input(\"Digite o CEP (apenas números): \")"
      ],
      "metadata": {
        "colab": {
          "base_uri": "https://localhost:8080/"
        },
        "id": "-P39X0dHOwUi",
        "outputId": "0fc83593-31c1-455c-c4da-06f45090ca75"
      },
      "execution_count": 45,
      "outputs": [
        {
          "name": "stdout",
          "output_type": "stream",
          "text": [
            "Digite o CEP (apenas números): 06663450\n"
          ]
        }
      ]
    },
    {
      "cell_type": "code",
      "source": [
        "\n",
        "# Monta a URL com o CEP informado\n",
        "url = f\"https://viacep.com.br/ws/{cep}/json/\"\n",
        "\n",
        "response = requests.get(url)\n",
        "\n",
        "# Verifica se a resposta foi bem-sucedida\n",
        "if response.status_code == 200:\n",
        "    data = response.json()\n",
        "\n",
        "    # Transforma o dicionário em uma lista de um item (Spark espera uma lista de registros)\n",
        "    data_list = [data]\n",
        "\n",
        "    # Cria o DataFrame\n",
        "    df = spark.createDataFrame(data_list)\n",
        "\n",
        "    # Mostra o resultado\n",
        "    df.show(truncate=False)\n",
        "else:\n",
        "    print(f\"Erro ao acessar a API: {response.status_code}\")"
      ],
      "metadata": {
        "id": "WrXdW-gkMmk5",
        "colab": {
          "base_uri": "https://localhost:8080/"
        },
        "outputId": "63cdec63-3e4b-4032-d540-bc8993a07a96"
      },
      "execution_count": 46,
      "outputs": [
        {
          "output_type": "stream",
          "name": "stdout",
          "text": [
            "+----------------+---------+-----------+---+---------+----+-------+----------+-----------------------+-------+-----+---+-------+\n",
            "|bairro          |cep      |complemento|ddd|estado   |gia |ibge   |localidade|logradouro             |regiao |siafi|uf |unidade|\n",
            "+----------------+---------+-----------+---+---------+----+-------+----------+-----------------------+-------+-----+---+-------+\n",
            "|Parque Suburbano|06663-450|           |11 |São Paulo|3736|3522505|Itapevi   |Avenida dos Brasileiros|Sudeste|6551 |SP |       |\n",
            "+----------------+---------+-----------+---+---------+----+-------+----------+-----------------------+-------+-----+---+-------+\n",
            "\n"
          ]
        }
      ]
    },
    {
      "cell_type": "code",
      "source": [
        "# exportar para csv o arquivo df convertido em df pandas\n",
        "df_pandas = df.toPandas()\n",
        "df_pandas.to_csv(f'viacep_{cep}.csv', index=False, encoding='utf-8-sig')"
      ],
      "metadata": {
        "id": "YdOCHtrnOkR2"
      },
      "execution_count": 47,
      "outputs": []
    },
    {
      "cell_type": "markdown",
      "source": [],
      "metadata": {
        "id": "68hF0f9lSi1O"
      }
    },
    {
      "cell_type": "code",
      "source": [
        "print(\"Arquivo CSV gerado com sucesso!\")"
      ],
      "metadata": {
        "colab": {
          "base_uri": "https://localhost:8080/"
        },
        "id": "GtxLje-ITogS",
        "outputId": "cdb41e8e-47c2-4a03-8874-45719a582987"
      },
      "execution_count": 48,
      "outputs": [
        {
          "output_type": "stream",
          "name": "stdout",
          "text": [
            "Arquivo CSV gerado com sucesso!\n"
          ]
        }
      ]
    }
  ]
}