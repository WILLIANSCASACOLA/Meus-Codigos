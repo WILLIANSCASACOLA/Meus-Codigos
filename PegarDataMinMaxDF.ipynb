{
  "nbformat": 4,
  "nbformat_minor": 0,
  "metadata": {
    "colab": {
      "provenance": [],
      "mount_file_id": "1o3Cau4JchTWH_vpXDOwBac7nATOhKTug",
      "authorship_tag": "ABX9TyPNl+04kNg8DDPKfN7EWBmA",
      "include_colab_link": true
    },
    "kernelspec": {
      "name": "python3",
      "display_name": "Python 3"
    },
    "language_info": {
      "name": "python"
    }
  },
  "cells": [
    {
      "cell_type": "markdown",
      "metadata": {
        "id": "view-in-github",
        "colab_type": "text"
      },
      "source": [
        "<a href=\"https://colab.research.google.com/github/WILLIANSCASACOLA/Meus-Codigos/blob/main/PegarDataMinMaxDF.ipynb\" target=\"_parent\"><img src=\"https://colab.research.google.com/assets/colab-badge.svg\" alt=\"Open In Colab\"/></a>"
      ]
    },
    {
      "cell_type": "code",
      "execution_count": 36,
      "metadata": {
        "id": "8lLCxul-3rQ4"
      },
      "outputs": [],
      "source": [
        "from pyspark.sql import SparkSession # Importa a classe SparkSession, que é o ponto de entrada para usar PySpark\n",
        "from pyspark.sql.window import Window # Importa a classe Window, usada para definir janelas de particionamento e ordenação\n",
        "import pyspark.sql.functions as F # Importa o módulo de funções do PySpark com o apelido F (facilita a escrita de funções como F.min, F.max, etc.)\n",
        "from datetime import datetime"
      ]
    },
    {
      "cell_type": "code",
      "source": [
        "spark = SparkSession.builder.appName('test').getOrCreate() # Cria ou acessa uma sessão Spark"
      ],
      "metadata": {
        "id": "-KPrq9X64rjI"
      },
      "execution_count": 37,
      "outputs": []
    },
    {
      "cell_type": "code",
      "source": [
        "# Define os dados de exemplo como uma lista de tuplas (protocolo, data)\n",
        "dados = [\n",
        "    (\"A123\", \"2023-01-01\"),\n",
        "    (\"A123\", \"2023-01-05\"),\n",
        "    (\"B456\", \"2023-02-10\"),\n",
        "    (\"B456\", \"2023-02-15\"),\n",
        "    (\"A123\", \"2023-01-03\"),\n",
        "    (\"A123\", \"2023-01-03\"),\n",
        "    (\"A123\", \"2023-01-03\"),\n",
        "    (\"A1234\", \"2023-01-03\"),\n",
        "    (\"A1234\", \"2023-01-04\")\n",
        "]\n"
      ],
      "metadata": {
        "id": "i1Lr_Rkf41F2"
      },
      "execution_count": 38,
      "outputs": []
    },
    {
      "cell_type": "code",
      "source": [
        "# Cria um DataFrame a partir dos dados\n",
        "df = spark.createDataFrame(dados, [\"protocolo\", \"data\"])\n"
      ],
      "metadata": {
        "id": "nQMW2aOc47Xb"
      },
      "execution_count": 39,
      "outputs": []
    },
    {
      "cell_type": "code",
      "source": [
        "# Mostrar os dados\n",
        "df.show()"
      ],
      "metadata": {
        "colab": {
          "base_uri": "https://localhost:8080/"
        },
        "id": "WKXRxf4649ri",
        "outputId": "c6cdadf0-b1f2-4cd9-b930-f14bd612a474"
      },
      "execution_count": 40,
      "outputs": [
        {
          "output_type": "stream",
          "name": "stdout",
          "text": [
            "+---------+----------+\n",
            "|protocolo|      data|\n",
            "+---------+----------+\n",
            "|     A123|2023-01-01|\n",
            "|     A123|2023-01-05|\n",
            "|     B456|2023-02-10|\n",
            "|     B456|2023-02-15|\n",
            "|     A123|2023-01-03|\n",
            "|     A123|2023-01-03|\n",
            "|     A123|2023-01-03|\n",
            "|    A1234|2023-01-03|\n",
            "|    A1234|2023-01-04|\n",
            "+---------+----------+\n",
            "\n"
          ]
        }
      ]
    },
    {
      "cell_type": "code",
      "source": [
        "# Converte a coluna 'data' de string para tipo Date\n",
        "df = df.withColumn(\"data\", F.col(\"data\").cast(\"date\"))"
      ],
      "metadata": {
        "id": "VpX_QO7V5IKJ"
      },
      "execution_count": 41,
      "outputs": []
    },
    {
      "cell_type": "code",
      "source": [
        "df.show()"
      ],
      "metadata": {
        "colab": {
          "base_uri": "https://localhost:8080/"
        },
        "id": "zcPNxtCi5R3R",
        "outputId": "ed1da561-8aec-4963-c1c1-cce700193e35"
      },
      "execution_count": 42,
      "outputs": [
        {
          "output_type": "stream",
          "name": "stdout",
          "text": [
            "+---------+----------+\n",
            "|protocolo|      data|\n",
            "+---------+----------+\n",
            "|     A123|2023-01-01|\n",
            "|     A123|2023-01-05|\n",
            "|     B456|2023-02-10|\n",
            "|     B456|2023-02-15|\n",
            "|     A123|2023-01-03|\n",
            "|     A123|2023-01-03|\n",
            "|     A123|2023-01-03|\n",
            "|    A1234|2023-01-03|\n",
            "|    A1234|2023-01-04|\n",
            "+---------+----------+\n",
            "\n"
          ]
        }
      ]
    },
    {
      "cell_type": "code",
      "source": [
        "# Define uma janela que particiona os dados por 'protocolo'\n",
        "janela = Window.partitionBy(\"protocolo\").orderBy(\"data\")"
      ],
      "metadata": {
        "id": "mwQLbz885ZrH"
      },
      "execution_count": 43,
      "outputs": []
    },
    {
      "cell_type": "code",
      "source": [
        "# Adiciona duas novas colunas ao DataFrame:\n",
        "# - 'data_minima': menor data dentro da janela por protocolo\n",
        "# - 'data_maxima': maior data dentro da janela por protocolo\n",
        "df = df.withColumn(\"data_minima\", F.min(\"data\").over(janela)) \\\n",
        "       .withColumn(\"data_maxima\", F.max(\"data\").over(janela))\n"
      ],
      "metadata": {
        "id": "mv9zs1tX5kcR"
      },
      "execution_count": 44,
      "outputs": []
    },
    {
      "cell_type": "code",
      "source": [
        "df.show()"
      ],
      "metadata": {
        "colab": {
          "base_uri": "https://localhost:8080/"
        },
        "id": "0_B3rBgL5qoB",
        "outputId": "9b015d06-68e1-40b3-85ae-2c51c1bb8045"
      },
      "execution_count": 45,
      "outputs": [
        {
          "output_type": "stream",
          "name": "stdout",
          "text": [
            "+---------+----------+-----------+-----------+\n",
            "|protocolo|      data|data_minima|data_maxima|\n",
            "+---------+----------+-----------+-----------+\n",
            "|     A123|2023-01-01| 2023-01-01| 2023-01-01|\n",
            "|     A123|2023-01-03| 2023-01-01| 2023-01-03|\n",
            "|     A123|2023-01-03| 2023-01-01| 2023-01-03|\n",
            "|     A123|2023-01-03| 2023-01-01| 2023-01-03|\n",
            "|     A123|2023-01-05| 2023-01-01| 2023-01-05|\n",
            "|    A1234|2023-01-03| 2023-01-03| 2023-01-03|\n",
            "|    A1234|2023-01-04| 2023-01-03| 2023-01-04|\n",
            "|     B456|2023-02-10| 2023-02-10| 2023-02-10|\n",
            "|     B456|2023-02-15| 2023-02-10| 2023-02-15|\n",
            "+---------+----------+-----------+-----------+\n",
            "\n"
          ]
        }
      ]
    },
    {
      "cell_type": "code",
      "source": [
        "\n",
        "# Define o nome base do arquivo\n",
        "nome_base = \"arquivo\"\n",
        "\n",
        "# Pega data e hora atual formatada (ex: 2025-09-17_20-23)\n",
        "data_hora = datetime.now().strftime(\"%Y-%m-%d_%H-%M\")\n",
        "\n",
        "# Concatena nome + data/hora + extensão\n",
        "nome_arquivo = f\"{nome_base}_{data_hora}.csv\"\n",
        "\n",
        "# Converte o DataFrame Spark para pandas\n",
        "df_pandas = df.toPandas()\n",
        "\n",
        "# Exporta para CSV com pandas usando o nome dinâmico\n",
        "df_pandas.to_csv(f\"/content/drive/MyDrive/Colab Notebooks/DataFrames/{nome_arquivo}\", index=False)"
      ],
      "metadata": {
        "id": "I3aKQNd68IVx"
      },
      "execution_count": 46,
      "outputs": []
    },
    {
      "cell_type": "code",
      "source": [
        "print(\"Dados processados com êxito\")"
      ],
      "metadata": {
        "colab": {
          "base_uri": "https://localhost:8080/"
        },
        "id": "UxliCu0O8wT_",
        "outputId": "a1136609-f52f-4b68-f93b-02fb06ccca59"
      },
      "execution_count": 47,
      "outputs": [
        {
          "output_type": "stream",
          "name": "stdout",
          "text": [
            "Dados processados com êxito\n"
          ]
        }
      ]
    }
  ]
}