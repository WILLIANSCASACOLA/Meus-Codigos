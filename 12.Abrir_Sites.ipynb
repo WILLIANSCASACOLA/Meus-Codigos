{
 "cells": [
  {
   "cell_type": "code",
   "execution_count": 7,
   "id": "71a60053",
   "metadata": {},
   "outputs": [],
   "source": [
    "#Bibliotecas\n",
    "import webbrowser\n",
    "import pandas as pd\n",
    "import os\n",
    "import time, datetime"
   ]
  },
  {
   "cell_type": "code",
   "execution_count": 8,
   "id": "d7a8afcb",
   "metadata": {},
   "outputs": [
    {
     "name": "stdout",
     "output_type": "stream",
     "text": [
      "Data de hoje: 24-08-2025\n"
     ]
    }
   ],
   "source": [
    "#Data\n",
    "Data_Hoje = time.strftime(\"%d-%m-%Y\")\n",
    "print(f\"Data de hoje: {Data_Hoje}\")"
   ]
  },
  {
   "cell_type": "code",
   "execution_count": 9,
   "id": "abf928c4",
   "metadata": {},
   "outputs": [
    {
     "data": {
      "text/plain": [
       "True"
      ]
     },
     "execution_count": 9,
     "metadata": {},
     "output_type": "execute_result"
    }
   ],
   "source": [
    "#Abrir site oficial do bancodata\n",
    "bancodata = 'https://www.bancodata.com.br/relatorio/1000080109/#Clientes'\n",
    "webbrowser.open(bancodata) "
   ]
  },
  {
   "cell_type": "code",
   "execution_count": 4,
   "id": "e29a18a8",
   "metadata": {},
   "outputs": [
    {
     "name": "stdout",
     "output_type": "stream",
     "text": [
      "+-----------------------------------------------------+\n",
      "| ⚠️Olhe aqui: Atualize o Excel antes de continuar.⚠️ |\n",
      "+-----------------------------------------------------+\n"
     ]
    }
   ],
   "source": [
    "#Abrir o arquivo para atualizar\n",
    "# Caminho do arquivo Excel\n",
    "caminho = r'C:\\Aplicativos\\Meus_Arquivos_Willian\\Ambiente_Desenvolvimento\\Arquivos_in\\Consulta_Volume.xlsx'\n",
    "os.startfile(caminho)\n",
    "\n",
    "def caixa_mensagem(texto):\n",
    "    borda = \"+\" + \"-\" * (len(texto) + 2) + \"+\"\n",
    "    print(borda)\n",
    "    print(f\"| {texto} |\")\n",
    "    print(borda)\n",
    "\n",
    "caixa_mensagem(\"⚠️Olhe aqui: Atualize o Excel antes de continuar.⚠️\")"
   ]
  },
  {
   "cell_type": "code",
   "execution_count": 5,
   "id": "fd383bf6",
   "metadata": {},
   "outputs": [
    {
     "data": {
      "text/html": [
       "<div>\n",
       "<style scoped>\n",
       "    .dataframe tbody tr th:only-of-type {\n",
       "        vertical-align: middle;\n",
       "    }\n",
       "\n",
       "    .dataframe tbody tr th {\n",
       "        vertical-align: top;\n",
       "    }\n",
       "\n",
       "    .dataframe thead th {\n",
       "        text-align: right;\n",
       "    }\n",
       "</style>\n",
       "<table border=\"1\" class=\"dataframe\">\n",
       "  <thead>\n",
       "    <tr style=\"text-align: right;\">\n",
       "      <th></th>\n",
       "      <th>Publicação</th>\n",
       "      <th>Número de Clientes</th>\n",
       "      <th>Número de Operações</th>\n",
       "      <th>Índice</th>\n",
       "      <th>DataConsulta</th>\n",
       "    </tr>\n",
       "  </thead>\n",
       "  <tbody>\n",
       "    <tr>\n",
       "      <th>0</th>\n",
       "      <td>2024-09-01</td>\n",
       "      <td>3703851</td>\n",
       "      <td>6743447</td>\n",
       "      <td>1</td>\n",
       "      <td>2025-08-19 19:10:57.210</td>\n",
       "    </tr>\n",
       "    <tr>\n",
       "      <th>1</th>\n",
       "      <td>2023-12-01</td>\n",
       "      <td>4059701</td>\n",
       "      <td>6585253</td>\n",
       "      <td>2</td>\n",
       "      <td>2025-08-19 19:10:57.210</td>\n",
       "    </tr>\n",
       "    <tr>\n",
       "      <th>2</th>\n",
       "      <td>2022-12-01</td>\n",
       "      <td>4041281</td>\n",
       "      <td>6027741</td>\n",
       "      <td>3</td>\n",
       "      <td>2025-08-19 19:10:57.210</td>\n",
       "    </tr>\n",
       "    <tr>\n",
       "      <th>3</th>\n",
       "      <td>2021-12-01</td>\n",
       "      <td>3332118</td>\n",
       "      <td>4486189</td>\n",
       "      <td>4</td>\n",
       "      <td>2025-08-19 19:10:57.210</td>\n",
       "    </tr>\n",
       "  </tbody>\n",
       "</table>\n",
       "</div>"
      ],
      "text/plain": [
       "  Publicação  Número de Clientes  Número de Operações  Índice  \\\n",
       "0 2024-09-01             3703851              6743447       1   \n",
       "1 2023-12-01             4059701              6585253       2   \n",
       "2 2022-12-01             4041281              6027741       3   \n",
       "3 2021-12-01             3332118              4486189       4   \n",
       "\n",
       "             DataConsulta  \n",
       "0 2025-08-19 19:10:57.210  \n",
       "1 2025-08-19 19:10:57.210  \n",
       "2 2025-08-19 19:10:57.210  \n",
       "3 2025-08-19 19:10:57.210  "
      ]
     },
     "execution_count": 5,
     "metadata": {},
     "output_type": "execute_result"
    }
   ],
   "source": [
    "\n",
    "# Lê a primeira planilha\n",
    "df = pd.read_excel(caminho)\n",
    "\n",
    "# Exibe as primeiras linhas\n",
    "df.head(10)"
   ]
  },
  {
   "cell_type": "code",
   "execution_count": 6,
   "id": "eec56987",
   "metadata": {},
   "outputs": [
    {
     "name": "stdout",
     "output_type": "stream",
     "text": [
      "+-----------------------------------------------------------------------------------------------------+\n",
      "| ⚠️ De acordo com o ano 2024-09-01, o valor de clientes consultado hoje 24-08-2025 é de: 3703851. ⚠️ |\n",
      "+-----------------------------------------------------------------------------------------------------+\n"
     ]
    }
   ],
   "source": [
    "#Mensagem\n",
    "MesAno = df.loc[0, 'Publicação']\n",
    "MesAno = MesAno.strftime('%Y-%m-%d')\n",
    "valor_ultimo = df.loc[0, 'Número de Clientes']\n",
    "\n",
    "#Abrir a pasta onde está o arquivo\n",
    "caminho_pasta = r\"C:\\Aplicativos\\Meus_Arquivos_Willian\\Ambiente_Desenvolvimento\\Arquivos_in\"\n",
    "\n",
    "os.startfile(caminho_pasta) # Abrir o diretório onde foi salvo o arquivo\n",
    "\n",
    "def caixa_mensagem(texto):\n",
    "    borda = \"+\" + \"-\" * (len(texto) + 2) + \"+\"\n",
    "    print(borda)\n",
    "    print(f\"| {texto} |\")\n",
    "    print(borda)\n",
    "\n",
    "caixa_mensagem(f\"⚠️ De acordo com o ano {MesAno}, o valor de clientes consultado hoje {Data_Hoje} é de: {valor_ultimo}. ⚠️\")"
   ]
  }
 ],
 "metadata": {
  "kernelspec": {
   "display_name": "Python 3",
   "language": "python",
   "name": "python3"
  },
  "language_info": {
   "codemirror_mode": {
    "name": "ipython",
    "version": 3
   },
   "file_extension": ".py",
   "mimetype": "text/x-python",
   "name": "python",
   "nbconvert_exporter": "python",
   "pygments_lexer": "ipython3",
   "version": "3.11.9"
  }
 },
 "nbformat": 4,
 "nbformat_minor": 5
}
