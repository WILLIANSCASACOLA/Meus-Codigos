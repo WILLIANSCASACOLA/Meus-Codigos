{
  "cells": [
    {
      "cell_type": "markdown",
      "metadata": {
        "id": "view-in-github",
        "colab_type": "text"
      },
      "source": [
        "<a href=\"https://colab.research.google.com/github/WILLIANSCASACOLA/Meus-Codigos/blob/main/Ler_Spark_SQL_Pandas.ipynb\" target=\"_parent\"><img src=\"https://colab.research.google.com/assets/colab-badge.svg\" alt=\"Open In Colab\"/></a>"
      ]
    },
    {
      "cell_type": "code",
      "execution_count": 1,
      "metadata": {
        "id": "SvEk-kI3trIw"
      },
      "outputs": [],
      "source": [
        "#Criar uma sessão spark\n",
        "import datetime\n",
        "from os import sep\n",
        "import os\n",
        "from pyspark.sql import SparkSession\n",
        "spark = SparkSession.builder.appName(\"teste\").getOrCreate()"
      ]
    },
    {
      "cell_type": "code",
      "source": [
        "from google.colab import drive\n",
        "drive.mount('/content/drive')"
      ],
      "metadata": {
        "id": "mASEjjCflieP",
        "colab": {
          "base_uri": "https://localhost:8080/"
        },
        "outputId": "011e8911-b5d7-4865-d8b6-3303d070978c"
      },
      "execution_count": 2,
      "outputs": [
        {
          "output_type": "stream",
          "name": "stdout",
          "text": [
            "Drive already mounted at /content/drive; to attempt to forcibly remount, call drive.mount(\"/content/drive\", force_remount=True).\n"
          ]
        }
      ]
    },
    {
      "cell_type": "code",
      "execution_count": 3,
      "metadata": {
        "colab": {
          "base_uri": "https://localhost:8080/",
          "height": 90
        },
        "id": "jF7BC2f1t_i-",
        "outputId": "38b1dcbb-6ffa-4114-888a-9096cb823872"
      },
      "outputs": [
        {
          "output_type": "display_data",
          "data": {
            "text/plain": [
              "<IPython.core.display.HTML object>"
            ],
            "text/html": [
              "\n",
              "     <input type=\"file\" id=\"files-113ca407-a4f8-40ff-93c7-53724a023a39\" name=\"files[]\" multiple disabled\n",
              "        style=\"border:none\" />\n",
              "     <output id=\"result-113ca407-a4f8-40ff-93c7-53724a023a39\">\n",
              "      Upload widget is only available when the cell has been executed in the\n",
              "      current browser session. Please rerun this cell to enable.\n",
              "      </output>\n",
              "      <script>// Copyright 2017 Google LLC\n",
              "//\n",
              "// Licensed under the Apache License, Version 2.0 (the \"License\");\n",
              "// you may not use this file except in compliance with the License.\n",
              "// You may obtain a copy of the License at\n",
              "//\n",
              "//      http://www.apache.org/licenses/LICENSE-2.0\n",
              "//\n",
              "// Unless required by applicable law or agreed to in writing, software\n",
              "// distributed under the License is distributed on an \"AS IS\" BASIS,\n",
              "// WITHOUT WARRANTIES OR CONDITIONS OF ANY KIND, either express or implied.\n",
              "// See the License for the specific language governing permissions and\n",
              "// limitations under the License.\n",
              "\n",
              "/**\n",
              " * @fileoverview Helpers for google.colab Python module.\n",
              " */\n",
              "(function(scope) {\n",
              "function span(text, styleAttributes = {}) {\n",
              "  const element = document.createElement('span');\n",
              "  element.textContent = text;\n",
              "  for (const key of Object.keys(styleAttributes)) {\n",
              "    element.style[key] = styleAttributes[key];\n",
              "  }\n",
              "  return element;\n",
              "}\n",
              "\n",
              "// Max number of bytes which will be uploaded at a time.\n",
              "const MAX_PAYLOAD_SIZE = 100 * 1024;\n",
              "\n",
              "function _uploadFiles(inputId, outputId) {\n",
              "  const steps = uploadFilesStep(inputId, outputId);\n",
              "  const outputElement = document.getElementById(outputId);\n",
              "  // Cache steps on the outputElement to make it available for the next call\n",
              "  // to uploadFilesContinue from Python.\n",
              "  outputElement.steps = steps;\n",
              "\n",
              "  return _uploadFilesContinue(outputId);\n",
              "}\n",
              "\n",
              "// This is roughly an async generator (not supported in the browser yet),\n",
              "// where there are multiple asynchronous steps and the Python side is going\n",
              "// to poll for completion of each step.\n",
              "// This uses a Promise to block the python side on completion of each step,\n",
              "// then passes the result of the previous step as the input to the next step.\n",
              "function _uploadFilesContinue(outputId) {\n",
              "  const outputElement = document.getElementById(outputId);\n",
              "  const steps = outputElement.steps;\n",
              "\n",
              "  const next = steps.next(outputElement.lastPromiseValue);\n",
              "  return Promise.resolve(next.value.promise).then((value) => {\n",
              "    // Cache the last promise value to make it available to the next\n",
              "    // step of the generator.\n",
              "    outputElement.lastPromiseValue = value;\n",
              "    return next.value.response;\n",
              "  });\n",
              "}\n",
              "\n",
              "/**\n",
              " * Generator function which is called between each async step of the upload\n",
              " * process.\n",
              " * @param {string} inputId Element ID of the input file picker element.\n",
              " * @param {string} outputId Element ID of the output display.\n",
              " * @return {!Iterable<!Object>} Iterable of next steps.\n",
              " */\n",
              "function* uploadFilesStep(inputId, outputId) {\n",
              "  const inputElement = document.getElementById(inputId);\n",
              "  inputElement.disabled = false;\n",
              "\n",
              "  const outputElement = document.getElementById(outputId);\n",
              "  outputElement.innerHTML = '';\n",
              "\n",
              "  const pickedPromise = new Promise((resolve) => {\n",
              "    inputElement.addEventListener('change', (e) => {\n",
              "      resolve(e.target.files);\n",
              "    });\n",
              "  });\n",
              "\n",
              "  const cancel = document.createElement('button');\n",
              "  inputElement.parentElement.appendChild(cancel);\n",
              "  cancel.textContent = 'Cancel upload';\n",
              "  const cancelPromise = new Promise((resolve) => {\n",
              "    cancel.onclick = () => {\n",
              "      resolve(null);\n",
              "    };\n",
              "  });\n",
              "\n",
              "  // Wait for the user to pick the files.\n",
              "  const files = yield {\n",
              "    promise: Promise.race([pickedPromise, cancelPromise]),\n",
              "    response: {\n",
              "      action: 'starting',\n",
              "    }\n",
              "  };\n",
              "\n",
              "  cancel.remove();\n",
              "\n",
              "  // Disable the input element since further picks are not allowed.\n",
              "  inputElement.disabled = true;\n",
              "\n",
              "  if (!files) {\n",
              "    return {\n",
              "      response: {\n",
              "        action: 'complete',\n",
              "      }\n",
              "    };\n",
              "  }\n",
              "\n",
              "  for (const file of files) {\n",
              "    const li = document.createElement('li');\n",
              "    li.append(span(file.name, {fontWeight: 'bold'}));\n",
              "    li.append(span(\n",
              "        `(${file.type || 'n/a'}) - ${file.size} bytes, ` +\n",
              "        `last modified: ${\n",
              "            file.lastModifiedDate ? file.lastModifiedDate.toLocaleDateString() :\n",
              "                                    'n/a'} - `));\n",
              "    const percent = span('0% done');\n",
              "    li.appendChild(percent);\n",
              "\n",
              "    outputElement.appendChild(li);\n",
              "\n",
              "    const fileDataPromise = new Promise((resolve) => {\n",
              "      const reader = new FileReader();\n",
              "      reader.onload = (e) => {\n",
              "        resolve(e.target.result);\n",
              "      };\n",
              "      reader.readAsArrayBuffer(file);\n",
              "    });\n",
              "    // Wait for the data to be ready.\n",
              "    let fileData = yield {\n",
              "      promise: fileDataPromise,\n",
              "      response: {\n",
              "        action: 'continue',\n",
              "      }\n",
              "    };\n",
              "\n",
              "    // Use a chunked sending to avoid message size limits. See b/62115660.\n",
              "    let position = 0;\n",
              "    do {\n",
              "      const length = Math.min(fileData.byteLength - position, MAX_PAYLOAD_SIZE);\n",
              "      const chunk = new Uint8Array(fileData, position, length);\n",
              "      position += length;\n",
              "\n",
              "      const base64 = btoa(String.fromCharCode.apply(null, chunk));\n",
              "      yield {\n",
              "        response: {\n",
              "          action: 'append',\n",
              "          file: file.name,\n",
              "          data: base64,\n",
              "        },\n",
              "      };\n",
              "\n",
              "      let percentDone = fileData.byteLength === 0 ?\n",
              "          100 :\n",
              "          Math.round((position / fileData.byteLength) * 100);\n",
              "      percent.textContent = `${percentDone}% done`;\n",
              "\n",
              "    } while (position < fileData.byteLength);\n",
              "  }\n",
              "\n",
              "  // All done.\n",
              "  yield {\n",
              "    response: {\n",
              "      action: 'complete',\n",
              "    }\n",
              "  };\n",
              "}\n",
              "\n",
              "scope.google = scope.google || {};\n",
              "scope.google.colab = scope.google.colab || {};\n",
              "scope.google.colab._files = {\n",
              "  _uploadFiles,\n",
              "  _uploadFilesContinue,\n",
              "};\n",
              "})(self);\n",
              "</script> "
            ]
          },
          "metadata": {}
        },
        {
          "output_type": "stream",
          "name": "stdout",
          "text": [
            "Saving Clientes.csv to Clientes.csv\n",
            "Arquivo: Clientes.csv carregado com êxito\n"
          ]
        }
      ],
      "source": [
        "#Subir dados para o google:\n",
        "from google.colab import files\n",
        "uploaded = files.upload()\n",
        "print(f\"Arquivo: {list(uploaded.keys())[0]} carregado com êxito\")"
      ]
    },
    {
      "cell_type": "code",
      "execution_count": 4,
      "metadata": {
        "colab": {
          "base_uri": "https://localhost:8080/"
        },
        "id": "v8tX_tRs-f1G",
        "outputId": "d42a2052-2038-4db9-e62b-59b2c81eab8a"
      },
      "outputs": [
        {
          "output_type": "stream",
          "name": "stdout",
          "text": [
            "Clientes.csv\n"
          ]
        }
      ],
      "source": [
        "#Mostrar o arquivo\n",
        "uploaded_filename = list(uploaded.keys())[0]\n",
        "print(uploaded_filename)"
      ]
    },
    {
      "cell_type": "code",
      "execution_count": 5,
      "metadata": {
        "id": "kfAtLCCv72uP"
      },
      "outputs": [],
      "source": [
        "# Define the new file name\n",
        "new_filename = \"Base_de_Dados_Netflix.csv\""
      ]
    },
    {
      "cell_type": "code",
      "execution_count": 6,
      "metadata": {
        "id": "ZMWLsbV8_OQ1"
      },
      "outputs": [],
      "source": [
        "# Rename the uploaded file\n",
        "try:\n",
        "    os.rename(uploaded_filename, new_filename)\n",
        "except FileNotFoundError:\n",
        "    print(f\"Arquivo '{uploaded_filename}' não encontrado. Pulando renomeação.\")\n",
        "    # Aqui você pode adicionar o código do próximo passo"
      ]
    },
    {
      "cell_type": "code",
      "execution_count": 11,
      "metadata": {
        "id": "aI2KihvD_P12"
      },
      "outputs": [],
      "source": [
        "from os import sep\n",
        "# Converter o arquivo para df\n",
        "# Arquivo está aqui: D:\\Aplicativos\\Bancos\n",
        "df = spark.read.csv(new_filename, header=True, inferSchema=True,sep=\",\")"
      ]
    },
    {
      "cell_type": "code",
      "execution_count": 8,
      "metadata": {
        "colab": {
          "base_uri": "https://localhost:8080/"
        },
        "id": "1k7TEVCL_yIO",
        "outputId": "1850e092-ce7b-49cb-c959-e732edf0fbb0"
      },
      "outputs": [
        {
          "output_type": "stream",
          "name": "stdout",
          "text": [
            "root\n",
            " |-- id,created_at,first_name,last_name,email,cell_phone,country,state,street,number,additionals: string (nullable = true)\n",
            "\n"
          ]
        }
      ],
      "source": [
        "df.printSchema()"
      ]
    },
    {
      "cell_type": "code",
      "execution_count": 12,
      "metadata": {
        "colab": {
          "base_uri": "https://localhost:8080/"
        },
        "id": "pwMLPpTRAhg1",
        "outputId": "d4b8b4ec-f966-44a1-dfc2-e4e43dfde41a"
      },
      "outputs": [
        {
          "output_type": "stream",
          "name": "stdout",
          "text": [
            "+---+-------------------+----------+-----------+---------------------+-----------+-------+-----------------+--------------------------------------+------+-----------+\n",
            "|id |created_at         |first_name|last_name  |email                |cell_phone |country|state            |street                                |number|additionals|\n",
            "+---+-------------------+----------+-----------+---------------------+-----------+-------+-----------------+--------------------------------------+------+-----------+\n",
            "|0  |2017-11-01 14:45:41|Marta     |Jesus      |NULL                 |9 9102-7834|Brasil |Acre             |NULL                                  |NULL  |Conjunto 16|\n",
            "|1  |2017-10-16 00:50:39|Luana     |Almeida    |NULL                 |9 7328-8718|Brasil |Rio Grande do Sul|Avenida 56 do Estado Rio Grande do Sul|989.0 |Conjunto 17|\n",
            "|2  |2018-06-16 17:51:29|Frida     |Mendes     |frida@meu_email.com  |9 5906-7552|Brasil |São Paulo        |Avenida 59 do Estado São Paulo        |534.0 |NULL       |\n",
            "|3  |2018-01-17 03:02:58|Daniela   |Avelino    |daniela@exemplo.com  |9 4642-9486|Brasil |Mato Grosso      |NULL                                  |NULL  |NULL       |\n",
            "|4  |2018-08-06 07:24:16|Romário   |Teixeira   |NULL                 |9 3093-6522|Brasil |Bahia            |Praça 56 do Estado Bahia              |191.0 |Apto 12    |\n",
            "|5  |2018-01-05 17:20:49|Marcelo   |Barroso    |NULL                 |9 2830-2088|Brasil |Rio Grande do Sul|Rua 28 do Estado Rio Grande do Sul    |805.0 |Conjunto 13|\n",
            "|6  |2018-06-18 11:17:42|Cristiano |Elísio     |cristiano@exemplo.com|9 3532-8404|Brasil |Goiás            |Rua 78 do Estado Goiás                |877.0 |Apto 14    |\n",
            "|7  |2018-02-08 12:36:09|Everton   |Barbosa    |everton@meu_email.com|9 2553-4087|Brasil |Distrito Federal |Avenida 86 do Estado Distrito Federal |864.0 |Apto 14    |\n",
            "|8  |2017-12-16 20:47:03|Gabriela  |Alves      |gabriela@exemplo.com |9 1353-8433|Brasil |Santa Catarina   |NULL                                  |NULL  |NULL       |\n",
            "|9  |2018-11-11 11:48:41|Luan      |Dias       |luan@exemplo.com     |9 2417-3678|Brasil |Distrito Federal |Avenida 54 do Estado Distrito Federal |889.0 |Conjunto 14|\n",
            "|10 |2017-12-16 15:41:00|Mariana   |Alves      |mariana@meu_email.com|9 1846-6377|Brasil |Santa Catarina   |NULL                                  |NULL  |NULL       |\n",
            "|11 |2018-05-16 03:39:52|James     |Albuquerque|NULL                 |9 2430-5905|Brasil |Sergipe          |Rua 30 do Estado Sergipe              |229.0 |NULL       |\n",
            "|12 |2018-03-28 00:24:00|Carol     |Barboza    |carol@exemplo.com    |9 8487-3501|Brasil |Mato Grosso      |Rua 31 do Estado Mato Grosso          |1.0   |Conjunto 23|\n",
            "|13 |2018-08-27 21:15:17|Carolina  |Monteiro   |carolina@teste.com   |9 1226-4267|Brasil |Rio Grande do Sul|Rua 4 do Estado Rio Grande do Sul     |444.0 |Apto 21    |\n",
            "|14 |2017-11-12 03:02:41|Francisco |Nascimento |francisco@exemplo.com|9 7264-9020|Brasil |Distrito Federal |Rua 75 do Estado Distrito Federal     |47.0  |NULL       |\n",
            "|15 |2018-11-15 18:00:53|Stephanie |Barbosa    |stephanie@usuario.com|9 1446-3560|Brasil |Mato Grosso      |NULL                                  |NULL  |Conjunto 4 |\n",
            "|16 |2017-12-12 21:29:54|Laura     |Santos     |laura@exemplo.com    |9 7802-6152|Brasil |Maranhão         |Rua 57 do Estado Maranhão             |213.0 |NULL       |\n",
            "|17 |2017-10-19 20:18:14|João      |Magalhães  |joão@exemplo.com     |9 5995-1272|Brasil |Pernambuco       |Rua 20 do Estado Pernambuco           |781.0 |Apto 17    |\n",
            "|18 |2018-06-28 04:53:52|Jair      |Magalhães  |jair@exemplo.com     |9 8368-1315|Brasil |Alagoas          |Avenida 74 do Estado Alagoas          |118.0 |Conjunto 8 |\n",
            "|19 |2018-10-20 19:31:52|Caíque    |Monteiro   |caíque@exemplo.com   |9 9793-9986|Brasil |Piauí            |NULL                                  |NULL  |Conjunto 13|\n",
            "+---+-------------------+----------+-----------+---------------------+-----------+-------+-----------------+--------------------------------------+------+-----------+\n",
            "only showing top 20 rows\n",
            "\n"
          ]
        }
      ],
      "source": [
        "df.show(truncate=False)"
      ]
    },
    {
      "cell_type": "code",
      "execution_count": null,
      "metadata": {
        "id": "7dVWu4OtJ874"
      },
      "outputs": [],
      "source": []
    },
    {
      "cell_type": "code",
      "execution_count": 13,
      "metadata": {
        "colab": {
          "base_uri": "https://localhost:8080/"
        },
        "id": "23B5V75WAs3j",
        "outputId": "345a49b6-5f8b-42a0-f312-ef8d52ec5be5"
      },
      "outputs": [
        {
          "output_type": "stream",
          "name": "stdout",
          "text": [
            "(100, 11)\n"
          ]
        }
      ],
      "source": [
        "#Verificar quantidade de linhas e colunas:\n",
        "print((df.count(), len(df.columns)))"
      ]
    },
    {
      "cell_type": "code",
      "execution_count": 14,
      "metadata": {
        "id": "cNLPUmFxBN59"
      },
      "outputs": [],
      "source": [
        "#Fazendo um consulta sql no \"df\"\n",
        "# Registrando o DataFrame como uma tabela temporária\n",
        "\n",
        "df.createOrReplaceTempView(\"netflix\")\n",
        "resultado = spark.sql(\"select DISTINCT(UPPER(email)) from netflix ORDER BY 1 \")"
      ]
    },
    {
      "cell_type": "code",
      "execution_count": 15,
      "metadata": {
        "colab": {
          "base_uri": "https://localhost:8080/"
        },
        "id": "2Jt1vz_ABs_X",
        "outputId": "3dd5aca2-9ba8-45a6-be5f-c83e379c3c09"
      },
      "outputs": [
        {
          "output_type": "stream",
          "name": "stdout",
          "text": [
            "+-----------------------+\n",
            "|upper(email)           |\n",
            "+-----------------------+\n",
            "|NULL                   |\n",
            "|ADALBERTO@TESTE.COM    |\n",
            "|ADALBERTO@USUARIO.COM  |\n",
            "|ALICE@EXEMPLO.COM      |\n",
            "|ALICE@TESTE.COM        |\n",
            "|ANA@TESTE.COM          |\n",
            "|BEATRIZ@TESTE.COM      |\n",
            "|BEATRIZ@USUARIO.COM    |\n",
            "|BRUNO@TESTE.COM        |\n",
            "|CAIO@TESTE.COM         |\n",
            "|CAIO@USUARIO.COM       |\n",
            "|CAROL@EXEMPLO.COM      |\n",
            "|CAROL@MEU_EMAIL.COM    |\n",
            "|CAROL@USUARIO.COM      |\n",
            "|CAROLINA@TESTE.COM     |\n",
            "|CAÍQUE@EXEMPLO.COM     |\n",
            "|CAÍQUE@TESTE.COM       |\n",
            "|CIBELE@MEU_EMAIL.COM   |\n",
            "|CLARISSA@EXEMPLO.COM   |\n",
            "|CRISTIANO@EXEMPLO.COM  |\n",
            "|CRISTIANO@MEU_EMAIL.COM|\n",
            "|CRISTIANO@USUARIO.COM  |\n",
            "|DANIEL@TESTE.COM       |\n",
            "|DANIELA@EXEMPLO.COM    |\n",
            "|DANIELA@MEU_EMAIL.COM  |\n",
            "|DANIELA@TESTE.COM      |\n",
            "|DANIELA@USUARIO.COM    |\n",
            "|DIEGO@EXEMPLO.COM      |\n",
            "|DIEGO@TESTE.COM        |\n",
            "|ELOÁ@USUARIO.COM       |\n",
            "|EVERTON@MEU_EMAIL.COM  |\n",
            "|FRANCISCO@EXEMPLO.COM  |\n",
            "|FRIDA@MEU_EMAIL.COM    |\n",
            "|GABRIEL@EXEMPLO.COM    |\n",
            "|GABRIELA@EXEMPLO.COM   |\n",
            "|GABRIELA@MEU_EMAIL.COM |\n",
            "|GABRIELA@TESTE.COM     |\n",
            "|GEISA@EXEMPLO.COM      |\n",
            "|GEISA@MEU_EMAIL.COM    |\n",
            "|GERSON@EXEMPLO.COM     |\n",
            "|GERSON@MEU_EMAIL.COM   |\n",
            "|GUSTAVO@TESTE.COM      |\n",
            "|HEITOR@TESTE.COM       |\n",
            "|HÉLEN@TESTE.COM        |\n",
            "|JAIR@EXEMPLO.COM       |\n",
            "|JAIR@TESTE.COM         |\n",
            "|JOSÉ@TESTE.COM         |\n",
            "|JOSÉ@USUARIO.COM       |\n",
            "|JOÃO@EXEMPLO.COM       |\n",
            "|JOÃO@USUARIO.COM       |\n",
            "|JÉSSICA@USUARIO.COM    |\n",
            "|JÚLIA@EXEMPLO.COM      |\n",
            "|JÚLIA@MEU_EMAIL.COM    |\n",
            "|JÚLIA@USUARIO.COM      |\n",
            "|LAURA@EXEMPLO.COM      |\n",
            "|LAURA@MEU_EMAIL.COM    |\n",
            "|LUAN@EXEMPLO.COM       |\n",
            "|LUAN@TESTE.COM         |\n",
            "|MARIA@USUARIO.COM      |\n",
            "|MARIANA@MEU_EMAIL.COM  |\n",
            "|MARIANA@USUARIO.COM    |\n",
            "|MARTA@TESTE.COM        |\n",
            "|NEYMAR@TESTE.COM       |\n",
            "|PAULO@USUARIO.COM      |\n",
            "|RAFAEL@EXEMPLO.COM     |\n",
            "|RAFAEL@MEU_EMAIL.COM   |\n",
            "|RAFAEL@USUARIO.COM     |\n",
            "|ROMÁRIO@MEU_EMAIL.COM  |\n",
            "|RONALDO@MEU_EMAIL.COM  |\n",
            "|STEPHANIE@MEU_EMAIL.COM|\n",
            "|STEPHANIE@USUARIO.COM  |\n",
            "+-----------------------+\n",
            "\n"
          ]
        }
      ],
      "source": [
        "#Mostrar o resultado, mostrar os 100 primeiros e mostrar coluna inteira\n",
        "resultado.show(100, truncate=False)"
      ]
    },
    {
      "cell_type": "code",
      "execution_count": 16,
      "metadata": {
        "colab": {
          "base_uri": "https://localhost:8080/"
        },
        "id": "YAMAQ6uwF-sI",
        "outputId": "ade5472e-73c9-4463-f3df-9a639ae130ce"
      },
      "outputs": [
        {
          "output_type": "stream",
          "name": "stdout",
          "text": [
            "2025-09-07\n"
          ]
        }
      ],
      "source": [
        "data_hoje = datetime.date.today()\n",
        "print(data_hoje)"
      ]
    },
    {
      "cell_type": "code",
      "execution_count": 17,
      "metadata": {
        "id": "WUvuNWm6CQ8j"
      },
      "outputs": [],
      "source": [
        "#Converter para Pandas\n",
        "df_pandas = resultado.toPandas()"
      ]
    },
    {
      "cell_type": "code",
      "execution_count": 18,
      "metadata": {
        "colab": {
          "base_uri": "https://localhost:8080/"
        },
        "id": "9mfXaZRtEL62",
        "outputId": "b0508721-8428-4887-c787-96568d982042"
      },
      "outputs": [
        {
          "output_type": "stream",
          "name": "stdout",
          "text": [
            "Arquivo CSV gerado com sucesso!\n"
          ]
        }
      ],
      "source": [
        "df_pandas.to_csv(f\"resultado_pd_{data_hoje}.csv\", index=False, encoding='utf-8')\n",
        "print(\"Arquivo CSV gerado com sucesso!\")"
      ]
    }
  ],
  "metadata": {
    "colab": {
      "provenance": [],
      "mount_file_id": "18cAmrA7OvDLKMQSFlstKlhazrL9SCEZi",
      "authorship_tag": "ABX9TyMb91O6JF6DQqxfJyy/T75+",
      "include_colab_link": true
    },
    "kernelspec": {
      "display_name": "Python 3",
      "name": "python3"
    },
    "language_info": {
      "name": "python"
    }
  },
  "nbformat": 4,
  "nbformat_minor": 0
}