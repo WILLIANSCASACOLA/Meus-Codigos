{
  "nbformat": 4,
  "nbformat_minor": 0,
  "metadata": {
    "colab": {
      "provenance": [],
      "mount_file_id": "18cAmrA7OvDLKMQSFlstKlhazrL9SCEZi",
      "authorship_tag": "ABX9TyOavjucbrEa7wB5WXZt4eq/",
      "include_colab_link": true
    },
    "kernelspec": {
      "name": "python3",
      "display_name": "Python 3"
    },
    "language_info": {
      "name": "python"
    }
  },
  "cells": [
    {
      "cell_type": "markdown",
      "metadata": {
        "id": "view-in-github",
        "colab_type": "text"
      },
      "source": [
        "<a href=\"https://colab.research.google.com/github/WILLIANSCASACOLA/Meus-Codigos/blob/main/Ler_Spark_SQL_Pandas.ipynb\" target=\"_parent\"><img src=\"https://colab.research.google.com/assets/colab-badge.svg\" alt=\"Open In Colab\"/></a>"
      ]
    },
    {
      "cell_type": "code",
      "execution_count": 21,
      "metadata": {
        "id": "SvEk-kI3trIw"
      },
      "outputs": [],
      "source": [
        "#Criar uma sessão spark\n",
        "import datetime\n",
        "from os import sep\n",
        "import os\n",
        "from pyspark.sql import SparkSession\n",
        "spark = SparkSession.builder.appName(\"teste\").getOrCreate()"
      ]
    },
    {
      "cell_type": "code",
      "source": [
        "#Subir dados para o google:\n",
        "from google.colab import files\n",
        "uploaded = files.upload()\n",
        "print(f\"Arquivo: {list(uploaded.keys())[0]} carregado com êxito\")"
      ],
      "metadata": {
        "id": "jF7BC2f1t_i-",
        "colab": {
          "base_uri": "https://localhost:8080/",
          "height": 90
        },
        "outputId": "5bd5b119-6321-4c23-8fac-0c56f29af06c"
      },
      "execution_count": 22,
      "outputs": [
        {
          "output_type": "display_data",
          "data": {
            "text/plain": [
              "<IPython.core.display.HTML object>"
            ],
            "text/html": [
              "\n",
              "     <input type=\"file\" id=\"files-b0e64343-e380-4819-a1d2-d41e902e5b3f\" name=\"files[]\" multiple disabled\n",
              "        style=\"border:none\" />\n",
              "     <output id=\"result-b0e64343-e380-4819-a1d2-d41e902e5b3f\">\n",
              "      Upload widget is only available when the cell has been executed in the\n",
              "      current browser session. Please rerun this cell to enable.\n",
              "      </output>\n",
              "      <script>// Copyright 2017 Google LLC\n",
              "//\n",
              "// Licensed under the Apache License, Version 2.0 (the \"License\");\n",
              "// you may not use this file except in compliance with the License.\n",
              "// You may obtain a copy of the License at\n",
              "//\n",
              "//      http://www.apache.org/licenses/LICENSE-2.0\n",
              "//\n",
              "// Unless required by applicable law or agreed to in writing, software\n",
              "// distributed under the License is distributed on an \"AS IS\" BASIS,\n",
              "// WITHOUT WARRANTIES OR CONDITIONS OF ANY KIND, either express or implied.\n",
              "// See the License for the specific language governing permissions and\n",
              "// limitations under the License.\n",
              "\n",
              "/**\n",
              " * @fileoverview Helpers for google.colab Python module.\n",
              " */\n",
              "(function(scope) {\n",
              "function span(text, styleAttributes = {}) {\n",
              "  const element = document.createElement('span');\n",
              "  element.textContent = text;\n",
              "  for (const key of Object.keys(styleAttributes)) {\n",
              "    element.style[key] = styleAttributes[key];\n",
              "  }\n",
              "  return element;\n",
              "}\n",
              "\n",
              "// Max number of bytes which will be uploaded at a time.\n",
              "const MAX_PAYLOAD_SIZE = 100 * 1024;\n",
              "\n",
              "function _uploadFiles(inputId, outputId) {\n",
              "  const steps = uploadFilesStep(inputId, outputId);\n",
              "  const outputElement = document.getElementById(outputId);\n",
              "  // Cache steps on the outputElement to make it available for the next call\n",
              "  // to uploadFilesContinue from Python.\n",
              "  outputElement.steps = steps;\n",
              "\n",
              "  return _uploadFilesContinue(outputId);\n",
              "}\n",
              "\n",
              "// This is roughly an async generator (not supported in the browser yet),\n",
              "// where there are multiple asynchronous steps and the Python side is going\n",
              "// to poll for completion of each step.\n",
              "// This uses a Promise to block the python side on completion of each step,\n",
              "// then passes the result of the previous step as the input to the next step.\n",
              "function _uploadFilesContinue(outputId) {\n",
              "  const outputElement = document.getElementById(outputId);\n",
              "  const steps = outputElement.steps;\n",
              "\n",
              "  const next = steps.next(outputElement.lastPromiseValue);\n",
              "  return Promise.resolve(next.value.promise).then((value) => {\n",
              "    // Cache the last promise value to make it available to the next\n",
              "    // step of the generator.\n",
              "    outputElement.lastPromiseValue = value;\n",
              "    return next.value.response;\n",
              "  });\n",
              "}\n",
              "\n",
              "/**\n",
              " * Generator function which is called between each async step of the upload\n",
              " * process.\n",
              " * @param {string} inputId Element ID of the input file picker element.\n",
              " * @param {string} outputId Element ID of the output display.\n",
              " * @return {!Iterable<!Object>} Iterable of next steps.\n",
              " */\n",
              "function* uploadFilesStep(inputId, outputId) {\n",
              "  const inputElement = document.getElementById(inputId);\n",
              "  inputElement.disabled = false;\n",
              "\n",
              "  const outputElement = document.getElementById(outputId);\n",
              "  outputElement.innerHTML = '';\n",
              "\n",
              "  const pickedPromise = new Promise((resolve) => {\n",
              "    inputElement.addEventListener('change', (e) => {\n",
              "      resolve(e.target.files);\n",
              "    });\n",
              "  });\n",
              "\n",
              "  const cancel = document.createElement('button');\n",
              "  inputElement.parentElement.appendChild(cancel);\n",
              "  cancel.textContent = 'Cancel upload';\n",
              "  const cancelPromise = new Promise((resolve) => {\n",
              "    cancel.onclick = () => {\n",
              "      resolve(null);\n",
              "    };\n",
              "  });\n",
              "\n",
              "  // Wait for the user to pick the files.\n",
              "  const files = yield {\n",
              "    promise: Promise.race([pickedPromise, cancelPromise]),\n",
              "    response: {\n",
              "      action: 'starting',\n",
              "    }\n",
              "  };\n",
              "\n",
              "  cancel.remove();\n",
              "\n",
              "  // Disable the input element since further picks are not allowed.\n",
              "  inputElement.disabled = true;\n",
              "\n",
              "  if (!files) {\n",
              "    return {\n",
              "      response: {\n",
              "        action: 'complete',\n",
              "      }\n",
              "    };\n",
              "  }\n",
              "\n",
              "  for (const file of files) {\n",
              "    const li = document.createElement('li');\n",
              "    li.append(span(file.name, {fontWeight: 'bold'}));\n",
              "    li.append(span(\n",
              "        `(${file.type || 'n/a'}) - ${file.size} bytes, ` +\n",
              "        `last modified: ${\n",
              "            file.lastModifiedDate ? file.lastModifiedDate.toLocaleDateString() :\n",
              "                                    'n/a'} - `));\n",
              "    const percent = span('0% done');\n",
              "    li.appendChild(percent);\n",
              "\n",
              "    outputElement.appendChild(li);\n",
              "\n",
              "    const fileDataPromise = new Promise((resolve) => {\n",
              "      const reader = new FileReader();\n",
              "      reader.onload = (e) => {\n",
              "        resolve(e.target.result);\n",
              "      };\n",
              "      reader.readAsArrayBuffer(file);\n",
              "    });\n",
              "    // Wait for the data to be ready.\n",
              "    let fileData = yield {\n",
              "      promise: fileDataPromise,\n",
              "      response: {\n",
              "        action: 'continue',\n",
              "      }\n",
              "    };\n",
              "\n",
              "    // Use a chunked sending to avoid message size limits. See b/62115660.\n",
              "    let position = 0;\n",
              "    do {\n",
              "      const length = Math.min(fileData.byteLength - position, MAX_PAYLOAD_SIZE);\n",
              "      const chunk = new Uint8Array(fileData, position, length);\n",
              "      position += length;\n",
              "\n",
              "      const base64 = btoa(String.fromCharCode.apply(null, chunk));\n",
              "      yield {\n",
              "        response: {\n",
              "          action: 'append',\n",
              "          file: file.name,\n",
              "          data: base64,\n",
              "        },\n",
              "      };\n",
              "\n",
              "      let percentDone = fileData.byteLength === 0 ?\n",
              "          100 :\n",
              "          Math.round((position / fileData.byteLength) * 100);\n",
              "      percent.textContent = `${percentDone}% done`;\n",
              "\n",
              "    } while (position < fileData.byteLength);\n",
              "  }\n",
              "\n",
              "  // All done.\n",
              "  yield {\n",
              "    response: {\n",
              "      action: 'complete',\n",
              "    }\n",
              "  };\n",
              "}\n",
              "\n",
              "scope.google = scope.google || {};\n",
              "scope.google.colab = scope.google.colab || {};\n",
              "scope.google.colab._files = {\n",
              "  _uploadFiles,\n",
              "  _uploadFilesContinue,\n",
              "};\n",
              "})(self);\n",
              "</script> "
            ]
          },
          "metadata": {}
        },
        {
          "output_type": "stream",
          "name": "stdout",
          "text": [
            "Saving Base de Dados Netflix.csv to Base de Dados Netflix.csv\n",
            "Arquivo: Base de Dados Netflix.csv carregado com êxito\n"
          ]
        }
      ]
    },
    {
      "cell_type": "code",
      "source": [
        "#Mostrar o arquivo\n",
        "uploaded_filename = list(uploaded.keys())[0]\n",
        "print(uploaded_filename)"
      ],
      "metadata": {
        "id": "v8tX_tRs-f1G",
        "colab": {
          "base_uri": "https://localhost:8080/"
        },
        "outputId": "51b88fb0-e48e-4ea7-9a5e-d210ab427a2e"
      },
      "execution_count": 23,
      "outputs": [
        {
          "output_type": "stream",
          "name": "stdout",
          "text": [
            "Base de Dados Netflix.csv\n"
          ]
        }
      ]
    },
    {
      "cell_type": "code",
      "source": [
        "# Define the new file name\n",
        "new_filename = \"Base_de_Dados_Netflix.csv\""
      ],
      "metadata": {
        "id": "kfAtLCCv72uP"
      },
      "execution_count": 24,
      "outputs": []
    },
    {
      "cell_type": "code",
      "source": [
        "# Rename the uploaded file\n",
        "try:\n",
        "    os.rename(uploaded_filename, new_filename)\n",
        "except FileNotFoundError:\n",
        "    print(f\"Arquivo '{uploaded_filename}' não encontrado. Pulando renomeação.\")\n",
        "    # Aqui você pode adicionar o código do próximo passo"
      ],
      "metadata": {
        "id": "ZMWLsbV8_OQ1"
      },
      "execution_count": 25,
      "outputs": []
    },
    {
      "cell_type": "code",
      "source": [
        "from os import sep\n",
        "# Converter o arquivo para df\n",
        "# Arquivo está aqui: D:\\Aplicativos\\Bancos\n",
        "df = spark.read.csv(new_filename, header=True, inferSchema=True,sep=\";\")"
      ],
      "metadata": {
        "id": "aI2KihvD_P12"
      },
      "execution_count": 26,
      "outputs": []
    },
    {
      "cell_type": "code",
      "source": [
        "df.printSchema()"
      ],
      "metadata": {
        "id": "1k7TEVCL_yIO",
        "colab": {
          "base_uri": "https://localhost:8080/"
        },
        "outputId": "02db727d-800b-46d3-d611-91c1dc00b1ec"
      },
      "execution_count": 27,
      "outputs": [
        {
          "output_type": "stream",
          "name": "stdout",
          "text": [
            "root\n",
            " |-- show_id: string (nullable = true)\n",
            " |-- type: string (nullable = true)\n",
            " |-- title: string (nullable = true)\n",
            " |-- director: string (nullable = true)\n",
            " |-- cast: string (nullable = true)\n",
            " |-- country: string (nullable = true)\n",
            " |-- date_added: string (nullable = true)\n",
            " |-- release_year: integer (nullable = true)\n",
            " |-- rating: string (nullable = true)\n",
            " |-- duration: string (nullable = true)\n",
            " |-- Duration Movies: integer (nullable = true)\n",
            " |-- Duration Seasons: integer (nullable = true)\n",
            " |-- listed_in: string (nullable = true)\n",
            " |-- Main Category: string (nullable = true)\n",
            " |-- description: string (nullable = true)\n",
            "\n"
          ]
        }
      ]
    },
    {
      "cell_type": "code",
      "source": [
        "df.show(truncate=False)"
      ],
      "metadata": {
        "id": "pwMLPpTRAhg1",
        "colab": {
          "base_uri": "https://localhost:8080/"
        },
        "outputId": "160ee166-f51c-4aa2-ed19-72f0be53ed03"
      },
      "execution_count": 28,
      "outputs": [
        {
          "output_type": "stream",
          "name": "stdout",
          "text": [
            "+-------+-------+------+--------------------+------------------------------------------------------------------------------------------------------------------------------------------------------------------------------------------------------------------+------------------------------+-----------------+------------+------+---------+---------------+----------------+--------------------------------------------------------+----------------------+-----------------------------------------------------------------------------------------------------------------------------------------------------------------------------------------------------------------------------------------------+\n",
            "|show_id|type   |title |director            |cast                                                                                                                                                                                                              |country                       |date_added       |release_year|rating|duration |Duration Movies|Duration Seasons|listed_in                                               |Main Category         |description                                                                                                                                                                                                                                    |\n",
            "+-------+-------+------+--------------------+------------------------------------------------------------------------------------------------------------------------------------------------------------------------------------------------------------------+------------------------------+-----------------+------------+------+---------+---------------+----------------+--------------------------------------------------------+----------------------+-----------------------------------------------------------------------------------------------------------------------------------------------------------------------------------------------------------------------------------------------+\n",
            "|s1     |TV Show|3%    |NULL                |JoÃ£o Miguel, Bianca Comparato, Michel Gomes, Rodolfo Valente, Vaneza Oliveira, Rafael Lozano, Viviane Porto, Mel Fronckowiak, Sergio Mamberti, ZezÃ© Motta, Celso Frateschi                                      |Brazil                        |August 14, 2020  |2020        |TV-MA |4 Seasons|0              |4               |International TV Shows, TV Dramas, TV Sci-Fi & Fantasy  |International TV Shows|In a future where the elite inhabit an island paradise far from the crowded slums, you get one chance to join the 3% saved from squalor.                                                                                                       |\n",
            "|s2     |Movie  |07:19 |Jorge Michel Grau   |DemiÃ¡n Bichir, HÃ©ctor Bonilla, Oscar Serrano, Azalia Ortiz, Octavio Michel, Carmen Beato                                                                                                                        |Mexico                        |December 23, 2016|2016        |TV-MA |93 min   |93             |NULL            |Dramas, International Movies                            |Dramas                |After a devastating earthquake hits Mexico City, trapped survivors from all walks of life wait to be rescued while trying desperately to stay alive.                                                                                           |\n",
            "|s3     |Movie  |23:59 |Gilbert Chan        |Tedd Chan, Stella Chung, Henley Hii, Lawrence Koh, Tommy Kuan, Josh Lai, Mark Lee, Susan Leong, Benjamin Lim                                                                                                      |Singapore                     |December 20, 2018|2011        |R     |78 min   |78             |NULL            |Horror Movies, International Movies                     |Horror Movies         |When an army recruit is found dead, his fellow soldiers are forced to confront a terrifying secret that's haunting their jungle island training camp.                                                                                          |\n",
            "|s4     |Movie  |9     |Shane Acker         |Elijah Wood, John C. Reilly, Jennifer Connelly, Christopher Plummer, Crispin Glover, Martin Landau, Fred Tatasciore, Alan Oppenheimer, Tom Kane                                                                   |United States                 |November 16, 2017|2009        |PG-13 |80 min   |80             |NULL            |Action & Adventure, Independent Movies, Sci-Fi & Fantasy|Action & Adventure    |In a postapocalyptic world, rag-doll robots hide in fear from dangerous machines out to exterminate them, until a brave newcomer joins the group.                                                                                              |\n",
            "|s5     |Movie  |21    |Robert Luketic      |Jim Sturgess, Kevin Spacey, Kate Bosworth, Aaron Yoo, Liza Lapira, Jacob Pitts, Laurence Fishburne, Jack McGee, Josh Gad, Sam Golzari, Helen Carey, Jack Gilpin                                                   |United States                 |January 1, 2020  |2008        |PG-13 |123 min  |123            |NULL            |Dramas                                                  |Dramas                |A brilliant group of students become card-counting experts with the intent of swindling millions out of Las Vegas casinos by playing blackjack.                                                                                                |\n",
            "|s6     |TV Show|46    |Serdar Akar         |Erdal BeÅŸikÃ§ioÄŸlu, Yasemin Allen, Melis Birkan, SaygÄ±n Soysal, Berkan Åžal, Metin Belgin, AyÃ§a Eren, Selin UludoÄŸan, Ã–zay Fecht, Suna YÄ±ldÄ±zoÄŸlu                                                        |Turkey                        |July 1, 2017     |2016        |TV-MA |1 Season |0              |1               |International TV Shows, TV Dramas, TV Mysteries         |International TV Shows|A genetics professor experiments with a treatment for his comatose sister that blends medical and shamanic cures, but unlocks a shocking side effect.                                                                                          |\n",
            "|s7     |Movie  |122   |Yasir Al Yasiri     |Amina Khalil, Ahmed Dawood, Tarek Lotfy, Ahmed El Fishawy, Mahmoud Hijazi, Jihane Khalil, Asmaa Galal, Tara Emad                                                                                                  |Egypt                         |June 1, 2020     |2019        |TV-MA |95 min   |95             |NULL            |Horror Movies, International Movies                     |Horror Movies         |After an awful accident, a couple admitted to a grisly hospital are separated and must find each other to escape â€” before death finds them.                                                                                                  |\n",
            "|s8     |Movie  |187   |Kevin Reynolds      |Samuel L. Jackson, John Heard, Kelly Rowan, Clifton Collins Jr., Tony Plana                                                                                                                                       |United States                 |November 1, 2019 |1997        |R     |119 min  |119            |NULL            |Dramas                                                  |Dramas                |After one of his high school students attacks him, dedicated teacher Trevor Garfield grows weary of the gang warfare in the New York City school system and moves to California to teach there, thinking it must be a less hostile environment.|\n",
            "|s9     |Movie  |706   |Shravan Kumar       |Divya Dutta, Atul Kulkarni, Mohan Agashe, Anupam Shyam, Raayo S. Bakhirta, Yashvit Sancheti, Greeva Kansara, Archan Trivedi, Rajiv Pathak                                                                         |India                         |April 1, 2019    |2019        |TV-14 |118 min  |118            |NULL            |Horror Movies, International Movies                     |Horror Movies         |When a doctor goes missing, his psychiatrist wife treats the bizarre medical condition of a psychic patient, who knows much more than he's leading on.                                                                                         |\n",
            "|s10    |Movie  |1920  |Vikram Bhatt        |Rajneesh Duggal, Adah Sharma, Indraneil Sengupta, Anjori Alagh, Rajendranath Zutshi, Vipin Sharma, Amin Hajee, Shri Vallabh Vyas                                                                                  |India                         |December 15, 2017|2008        |TV-MA |143 min  |143            |NULL            |Horror Movies, International Movies, Thrillers          |Horror Movies         |An architect and his wife move into a castle that is slated to become a luxury hotel. But something inside is determined to stop the renovation.                                                                                               |\n",
            "|s11    |Movie  |1922  |Zak Hilditch        |Thomas Jane, Molly Parker, Dylan Schmid, Kaitlyn Bernard, Bob Frazer, Brian d'Arcy James, Neal McDonough                                                                                                          |United States                 |October 20, 2017 |2017        |TV-MA |103 min  |103            |NULL            |Dramas, Thrillers                                       |Dramas                |A farmer pens a confession admitting to his wife's murder, but her death is just the beginning of a macabre tale. Based on Stephen King's novella.                                                                                             |\n",
            "|s12    |TV Show|1983  |NULL                |Robert WiÄ™ckiewicz, Maciej MusiaÅ‚, Michalina OlszaÅ„ska, Andrzej Chyra, Clive Russell, Zofia WichÅ‚acz, Edyta OlszÃ³wka, Mateusz KoÅ›ciukiewicz, Ewa BÅ‚aszczyk, Vu Le Hong, Tomasz WÅ‚osok, Krzysztof Wach     |Poland, United States         |November 30, 2018|2018        |TV-MA |1 Season |0              |1               |Crime TV Shows, International TV Shows, TV Dramas       |Crime TV Shows        |In this dark alt-history thriller, a naÃ¯ve law student and a world-weary detective uncover a conspiracy that has tyrannized Poland for decades.                                                                                               |\n",
            "|s13    |TV Show|1994  |Diego Enrique Osorno|NULL                                                                                                                                                                                                              |Mexico                        |May 17, 2019     |2019        |TV-MA |1 Season |0              |1               |Crime TV Shows, Docuseries, International TV Shows      |Crime TV Shows        |Archival video and new interviews examine Mexican politics in 1994, a year marked by the rise of the EZLN and the assassination of Luis Donaldo Colosio.                                                                                       |\n",
            "|s14    |Movie  |2,215 |Nottapon Boonprakob |Artiwara Kongmalai                                                                                                                                                                                                |Thailand                      |March 1, 2019    |2018        |TV-MA |89 min   |89             |NULL            |Documentaries, International Movies, Sports Movies      |Documentaries         |This intimate documentary follows rock star Artiwara Kongmalai on his historic, 2,215-kilometer charity run across Thailand in 2017.                                                                                                           |\n",
            "|s15    |Movie  |3022  |John Suits          |Omar Epps, Kate Walsh, Miranda Cosgrove, Angus Macfadyen, Jorja Fox, Enver Gjokaj, Haaz Sleiman                                                                                                                   |United States                 |March 19, 2020   |2019        |R     |91 min   |91             |NULL            |Independent Movies, Sci-Fi & Fantasy, Thrillers         |Independent Movies    |Stranded when the Earth is suddenly destroyed in a mysterious cataclysm, the astronauts aboard a marooned space station slowly lose their minds.                                                                                               |\n",
            "|s16    |Movie  |Oct-01|Kunle Afolayan      |Sadiq Daba, David Bailie, Kayode Olaiya, Kehinde Bankole, Fabian Adeoye Lojede, Nick Rhys, Kunle Afolayan, Colin David Reese, Ibrahim Shatta, Femi Adebayo, Kanayo O. Kanayo, Lawrence Stubbings, Ademola Adedoyin|Nigeria                       |September 1, 2019|2014        |TV-14 |149 min  |149            |NULL            |Dramas, International Movies, Thrillers                 |Dramas                |Against the backdrop of Nigeria's looming independence from Britain, detective Danladi Waziri races to capture a killer terrorizing local women.                                                                                               |\n",
            "|s17    |TV Show|Feb-09|NULL                |Shahd El Yaseen, Shaila Sabt, Hala, Hanadi Al-Kandari, Salma Salem, Ibrahim Al-Harbi, Mahmoud Boushahri, Yousef Al Balushi, Ghorour, Abdullah Al-bloshi                                                           |NULL                          |March 20, 2019   |2018        |TV-14 |1 Season |0              |1               |International TV Shows, TV Dramas                       |International TV Shows|As a psychology professor faces Alzheimer's, his daughter and her three close female friends experience romance, marriage, heartbreak and tragedy.                                                                                             |\n",
            "|s18    |Movie  |22/jul|Paul Greengrass     |Anders Danielsen Lie, Jon Ã˜igarden, Jonas Strand Gravli, Ola G. Furuseth, Maria Bock, ThorbjÃ¸rn Harr, Jaden Smith                                                                                               |Norway, Iceland, United States|October 10, 2018 |2018        |R     |144 min  |144            |NULL            |Dramas, Thrillers                                       |Dramas                |After devastating terror attacks in Norway, a young survivor, grieving families and the country rally for justice and healing. Based on a true story.                                                                                          |\n",
            "|s19    |Movie  |15-Aug|Swapnaneel Jayakar  |Rahul Pethe, Mrunmayee Deshpande, Adinath Kothare, Vaibhav Mangale, Jaywant Wadkar, Satish Pulekar, Naina Apte, Uday Tikekar                                                                                      |India                         |March 29, 2019   |2019        |TV-14 |124 min  |124            |NULL            |Comedies, Dramas, Independent Movies                    |Comedies              |On India's Independence Day, a zany mishap in a Mumbai chawl disrupts a young love story while compelling the residents to unite in aid of a little boy.                                                                                       |\n",
            "|s20    |Movie  |'89   |NULL                |Lee Dixon, Ian Wright, Paul Merson                                                                                                                                                                                |United Kingdom                |May 16, 2018     |2017        |TV-PG |87 min   |87             |NULL            |Sports Movies                                           |Sports Movies         |Mixing old footage with interviews, this is the story of Arsenal's improbable win versus Liverpool in the final moments of the 1989 championship game.                                                                                         |\n",
            "+-------+-------+------+--------------------+------------------------------------------------------------------------------------------------------------------------------------------------------------------------------------------------------------------+------------------------------+-----------------+------------+------+---------+---------------+----------------+--------------------------------------------------------+----------------------+-----------------------------------------------------------------------------------------------------------------------------------------------------------------------------------------------------------------------------------------------+\n",
            "only showing top 20 rows\n",
            "\n"
          ]
        }
      ]
    },
    {
      "cell_type": "code",
      "source": [
        "#Verificar quantidade de linhas e colunas:\n",
        "print((df.count(), len(df.columns)))"
      ],
      "metadata": {
        "id": "23B5V75WAs3j",
        "colab": {
          "base_uri": "https://localhost:8080/"
        },
        "outputId": "c8783e84-b96b-4539-8a93-9b938be336e5"
      },
      "execution_count": 29,
      "outputs": [
        {
          "output_type": "stream",
          "name": "stdout",
          "text": [
            "(7786, 15)\n"
          ]
        }
      ]
    },
    {
      "cell_type": "code",
      "source": [
        "#Fazendo um consulta sql no \"df\"\n",
        "# Registrando o DataFrame como uma tabela temporária\n",
        "\n",
        "df.createOrReplaceTempView(\"netflix\")\n",
        "resultado = spark.sql(\"select DISTINCT(UPPER(director)) from netflix ORDER BY 1 \")"
      ],
      "metadata": {
        "id": "cNLPUmFxBN59"
      },
      "execution_count": 30,
      "outputs": []
    },
    {
      "cell_type": "code",
      "source": [
        "#Mostrar o resultado, mostrar os 100 primeiros e mostrar coluna inteira\n",
        "resultado.show(100, truncate=False)"
      ],
      "metadata": {
        "id": "2Jt1vz_ABs_X",
        "colab": {
          "base_uri": "https://localhost:8080/"
        },
        "outputId": "0b1c7331-132a-4e83-9a85-1aa5fdd91f9a"
      },
      "execution_count": 31,
      "outputs": [
        {
          "output_type": "stream",
          "name": "stdout",
          "text": [
            "+---------------------------------------------------+\n",
            "|upper(director)                                    |\n",
            "+---------------------------------------------------+\n",
            "|NULL                                               |\n",
            "|\"SAM \"\"BLITZ\"\" BAZAWULE\"                           |\n",
            "|A. L. VIJAY                                        |\n",
            "|A. RAAJDHEEP                                       |\n",
            "|A. SALAAM                                          |\n",
            "|A.R. MURUGADOSS                                    |\n",
            "|AADISH KELUSKAR                                    |\n",
            "|AAMIR BASHIR                                       |\n",
            "|AAMIR KHAN                                         |\n",
            "|AANAND RAI                                         |\n",
            "|AARON BURNS                                        |\n",
            "|AARON HANCOX, MICHAEL MCNAMARA                     |\n",
            "|AARON HANN, MARIO MISCIONE                         |\n",
            "|AARON LIEBER                                       |\n",
            "|AARON NEE, ADAM NEE                                |\n",
            "|AARON SORKIN                                       |\n",
            "|AARON WOODLEY                                      |\n",
            "|AATMARAM DHARNE                                    |\n",
            "|ABBA T. MAKAMA                                     |\n",
            "|ABBAS ALIBHAI BURMAWALLA, MASTAN ALIBHAI BURMAWALLA|\n",
            "|ABBAS MUSTAN                                       |\n",
            "|ABBAS TYREWALA                                     |\n",
            "|ABBY EPSTEIN                                       |\n",
            "|ABDELLATIF KECHICHE                                |\n",
            "|ABDUL AZIZ HASHAD                                  |\n",
            "|ABEL FERRARA                                       |\n",
            "|ABHAY CHOPRA                                       |\n",
            "|ABHIJEET DESHPANDE                                 |\n",
            "|ABHIJIT KOKATE, SRIVINAY SALIAN                    |\n",
            "|ABHIJIT PANSE                                      |\n",
            "|ABHINAY DEO                                        |\n",
            "|ABHISHEK CHAUBEY                                   |\n",
            "|ABHISHEK KAPOOR                                    |\n",
            "|ABHISHEK SAXENA                                    |\n",
            "|ABHISHEK SHARMA                                    |\n",
            "|ABHISHEK VARMAN                                    |\n",
            "|ABU BAKR SHAWKY                                    |\n",
            "|ADAM ALLECA                                        |\n",
            "|ADAM B. STEIN, ZACH LIPOVSKY                       |\n",
            "|ADAM BHALA LOUGH                                   |\n",
            "|ADAM BOLT                                          |\n",
            "|ADAM COLLINS, LUKE RADFORD                         |\n",
            "|ADAM DAVIS, JERRY KOLBER, TREY NELSON, ERICH STURM |\n",
            "|ADAM DEL GIUDICE                                   |\n",
            "|ADAM DEYOE                                         |\n",
            "|ADAM DUBIN                                         |\n",
            "|ADAM LEON                                          |\n",
            "|ADAM MACDONALD                                     |\n",
            "|ADAM MARINO                                        |\n",
            "|ADAM MCKAY                                         |\n",
            "|ADAM NIMOY                                         |\n",
            "|ADAM RANDALL                                       |\n",
            "|ADAM SHANKMAN                                      |\n",
            "|ADAM SJÃ¶BERG                                      |\n",
            "|ADAM SMITH                                         |\n",
            "|ADAM WINGARD                                       |\n",
            "|ADAM WOOD                                          |\n",
            "|ADARSH ESHWARAPPA                                  |\n",
            "|ADEKUNLE NODASH ADEJUYIGBE                         |\n",
            "|ADELE K. THOMAS, RICHARD BAILEY                    |\n",
            "|ADISORN TRESIRIKASEM                               |\n",
            "|ADITYA KRIPALANI                                   |\n",
            "|ADITYA SARPOTDAR                                   |\n",
            "|ADITYA VIKRAM SENGUPTA                             |\n",
            "|ADRIAN MURRAY                                      |\n",
            "|ADRIAN TEH                                         |\n",
            "|ADRIANA TRIGIANI                                   |\n",
            "|ADRIEN LAGIER, OUSMANE LY                          |\n",
            "|ADVAIT CHANDAN                                     |\n",
            "|ADZE UGAH                                          |\n",
            "|AFIA NATHANIEL                                     |\n",
            "|AFONSO POYART                                      |\n",
            "|AGASYAH KARIM, KHALID KASHOGI                      |\n",
            "|AGNIDEV CHATTERJEE                                 |\n",
            "|AGUSTÃ­ VILLARONGA                                 |\n",
            "|AH LOONG                                           |\n",
            "|AHISHOR SOLOMON                                    |\n",
            "|AHMAD EL-BADRI                                     |\n",
            "|AHMAD SAMIR FARAG                                  |\n",
            "|AHMED AL-BADRY                                     |\n",
            "|AHMED EL GENDY                                     |\n",
            "|AHMED MEDHAT                                       |\n",
            "|AHMED NADER GALAL                                  |\n",
            "|AHMED SALEH                                        |\n",
            "|AHMED YOUSRY, HAZEM FOUDA                          |\n",
            "|AHMED ZAIN                                         |\n",
            "|AHMED ZEIN                                         |\n",
            "|AHMET KATÄ±KSÄ±Z                                   |\n",
            "|AHN BYOUNG-WOOK                                    |\n",
            "|AHSAN RAHIM                                        |\n",
            "|AIJAZ KHAN                                         |\n",
            "|AITOR ARREGI, JON GARAÃ±O                          |\n",
            "|AITOR ARREGI, JON GARAÃ±O, JOSE MARI GOENAGA       |\n",
            "|AJAY BAHL                                          |\n",
            "|AJAY BHUYAN, KUNAL KOHLI                           |\n",
            "|AJAY PHANSEKAR                                     |\n",
            "|AJITHKUMAR                                         |\n",
            "|AKASHDEEP                                          |\n",
            "|AKHIGBE ILOZOBHIE                                  |\n",
            "|AKHIL PAUL, ANAS KHAN                              |\n",
            "+---------------------------------------------------+\n",
            "only showing top 100 rows\n",
            "\n"
          ]
        }
      ]
    },
    {
      "cell_type": "code",
      "source": [
        "data_hoje = datetime.date.today()\n",
        "print(data_hoje)"
      ],
      "metadata": {
        "id": "YAMAQ6uwF-sI",
        "colab": {
          "base_uri": "https://localhost:8080/"
        },
        "outputId": "d584d13b-e5a9-48e6-ed6d-734c3ea7b2da"
      },
      "execution_count": 32,
      "outputs": [
        {
          "output_type": "stream",
          "name": "stdout",
          "text": [
            "2025-06-19\n"
          ]
        }
      ]
    },
    {
      "cell_type": "code",
      "source": [
        "#Converter para Pandas\n",
        "df_pandas = resultado.toPandas()"
      ],
      "metadata": {
        "id": "WUvuNWm6CQ8j"
      },
      "execution_count": 33,
      "outputs": []
    },
    {
      "cell_type": "code",
      "source": [
        "df_pandas.to_csv(f\"resultado_pd_{data_hoje}.csv\", index=False, encoding='utf-8')\n",
        "print(\"Arquivo CSV gerado com sucesso!\")"
      ],
      "metadata": {
        "id": "9mfXaZRtEL62",
        "colab": {
          "base_uri": "https://localhost:8080/"
        },
        "outputId": "7347b43c-d3bd-4090-8c79-050f32eef68d"
      },
      "execution_count": 34,
      "outputs": [
        {
          "output_type": "stream",
          "name": "stdout",
          "text": [
            "Arquivo CSV gerado com sucesso!\n"
          ]
        }
      ]
    }
  ]
}