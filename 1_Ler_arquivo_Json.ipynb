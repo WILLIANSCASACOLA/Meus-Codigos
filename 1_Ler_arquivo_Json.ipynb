{
  "nbformat": 4,
  "nbformat_minor": 0,
  "metadata": {
    "colab": {
      "provenance": [],
      "mount_file_id": "1iqUZAf_bWYnqVugSyXg-yBPNZKK17p2e",
      "authorship_tag": "ABX9TyNvBzD3IcHO2xZN1aa9HRT3",
      "include_colab_link": true
    },
    "kernelspec": {
      "name": "python3",
      "display_name": "Python 3"
    },
    "language_info": {
      "name": "python"
    }
  },
  "cells": [
    {
      "cell_type": "markdown",
      "metadata": {
        "id": "view-in-github",
        "colab_type": "text"
      },
      "source": [
        "<a href=\"https://colab.research.google.com/github/WILLIANSCASACOLA/Meus-Codigos/blob/main/1_Ler_arquivo_Json.ipynb\" target=\"_parent\"><img src=\"https://colab.research.google.com/assets/colab-badge.svg\" alt=\"Open In Colab\"/></a>"
      ]
    },
    {
      "cell_type": "code",
      "source": [
        "#Versão do Python\n",
        "!python --version\n",
        "import codecs\n",
        "from chardet.universaldetector import UniversalDetector"
      ],
      "metadata": {
        "id": "HDncUn10SAVP"
      },
      "execution_count": null,
      "outputs": []
    },
    {
      "cell_type": "code",
      "source": [
        "#Sumulação erro obs: se tiver encoding utf-8 padrão o pandas lê se precisar passar os parametros de encoding\n",
        "import pandas as pd\n"
      ],
      "metadata": {
        "id": "tvUsJQUWS7zr"
      },
      "execution_count": null,
      "outputs": []
    },
    {
      "cell_type": "code",
      "source": [
        "#codesc / encoding passando o encoding\n",
        "caminho_do_arquivo = r\"/content/drive/MyDrive/Colab Notebooks/Arquivos_Ler/V_OCORRENCIA_AMPLA.json\"\n",
        "df = pd.read_json(caminho_do_arquivo, encoding='utf-8-sig')\n",
        "df.head()"
      ],
      "metadata": {
        "id": "XNN-ApPkcXuA"
      },
      "execution_count": null,
      "outputs": []
    },
    {
      "cell_type": "markdown",
      "source": [
        "Biclioteca especifica para per json"
      ],
      "metadata": {
        "id": "rv7tAJNFgYFz"
      }
    },
    {
      "cell_type": "code",
      "source": [
        "import json\n",
        "import codecs\n",
        "\n",
        "caminho_do_arquivo = r\"/content/drive/MyDrive/Colab Notebooks/Arquivos_Ler/V_OCORRENCIA_AMPLA.json\"\n",
        "with codecs.open(caminho_do_arquivo, 'r', encoding='utf-8-sig') as arquivo: # r formato read de leitura\n",
        "  data = json.load(arquivo)\n",
        "df_json = pd.DataFrame(data)\n",
        "df_json.head()"
      ],
      "metadata": {
        "id": "7555K04_dvh8"
      },
      "execution_count": null,
      "outputs": []
    },
    {
      "cell_type": "code",
      "source": [
        "#Ler o json tranformar em pandas e detectar o encoding já passando para a váriavel\n",
        "\n",
        "pd.set_option('display.max_columns', None) # Ver todas as colunas\n",
        "caminho_do_arquivo = r\"/content/drive/MyDrive/Colab Notebooks/Arquivos_Ler/V_OCORRENCIA_AMPLA.json\"\n",
        "detector = UniversalDetector()\n",
        "with open(caminho_do_arquivo, 'rb') as arquivo:\n",
        "  for linha in arquivo:\n",
        "    detector.feed(linha)\n",
        "    if detector.done:\n",
        "      break\n",
        "detector.close()\n",
        "formato_encoding = detector.result['encoding']\n",
        "print(f'Formato do encoding arquivo é {formato_encoding}')\n",
        "# Até aqui detecta o encoding\n",
        "\n",
        "df = pd.read_json(caminho_do_arquivo, encoding=formato_encoding)\n",
        "df.head()"
      ],
      "metadata": {
        "id": "jrcJZc5_hX31"
      },
      "execution_count": null,
      "outputs": []
    },
    {
      "cell_type": "code",
      "source": [
        "#Mostrar as colunas\n",
        "df.columns"
      ],
      "metadata": {
        "id": "yfFTN1RJi_61"
      },
      "execution_count": null,
      "outputs": []
    },
    {
      "cell_type": "code",
      "source": [
        "# tranformar df_json_automatico.columns em um df\n",
        "df_columns = pd.DataFrame(df.columns, columns=['Colunas'])\n",
        "df_columns"
      ],
      "metadata": {
        "id": "g_GHGPXujMTz"
      },
      "execution_count": null,
      "outputs": []
    },
    {
      "cell_type": "code",
      "source": [
        "#Selecionar colunas do df\n",
        "colunas =[\"Numero_da_Ocorrencia\",\"Classificacao_da_Ocorrência\",\"Data_da_Ocorrencia\",\"Municipio\",\"UF\",\"Regiao\",\"Nome_do_Fabricante\"]\n",
        "df_selecionado = df[colunas]\n",
        "#Renomar colunas\n",
        "df_selecionado.rename(columns={'Classificacao_da_Ocorrência':'Classificacao_da_Ocorrencia'}, inplace=True)\n",
        "df_selecionado.head()"
      ],
      "metadata": {
        "id": "3WkATl_Hs-LZ"
      },
      "execution_count": null,
      "outputs": []
    },
    {
      "cell_type": "code",
      "source": [
        "#Ver quantidade de linhas e colunas no df_selecionado\n",
        "df_selecionado.shape"
      ],
      "metadata": {
        "id": "8Zix-Oi74m17"
      },
      "execution_count": null,
      "outputs": []
    },
    {
      "cell_type": "code",
      "source": [
        "#Exportar df_seleciado no formato csv\n",
        "df_selecionado.to_csv('/content/drive/MyDrive/Colab Notebooks/DataFrames/df_selecionado.csv', index=False)"
      ],
      "metadata": {
        "id": "qNQy6Gg68z-l"
      },
      "execution_count": null,
      "outputs": []
    }
  ]
}